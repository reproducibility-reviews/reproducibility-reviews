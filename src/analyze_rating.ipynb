{
 "cells": [
  {
   "cell_type": "code",
   "execution_count": 3,
   "metadata": {},
   "outputs": [],
   "source": [
    "import pandas as pd\n",
    "import statistics\n",
    "import matplotlib.pyplot as plt\n",
    "from sklearn.metrics import cohen_kappa_score\n",
    "import numpy as np\n",
    "from scipy.stats import bootstrap\n",
    "from math import sqrt"
   ]
  },
  {
   "cell_type": "code",
   "execution_count": 4,
   "metadata": {},
   "outputs": [],
   "source": [
    "def agreement_proportion(matrix: pd.DataFrame):\n",
    "    pe = 0\n",
    "    k = len(matrix)-1\n",
    "    for i in range(k):\n",
    "        pe += matrix.loc[i, k] * matrix.loc[k, i]\n",
    "    return pe\n",
    "\n",
    "def observed_proportion(matrix: pd.DataFrame):\n",
    "    po = 0\n",
    "    k = len(matrix) - 1\n",
    "    for i in range(k):\n",
    "        po += matrix.loc[i, i]\n",
    "    return po\n",
    "\n",
    "\n",
    "def sd_cohen(po, pe, matrix):\n",
    "    return sqrt((po*(1-po))/((1-pe)*(1-pe)))\n",
    "\n",
    "def ci(x1, x2):\n",
    "    return (1-x1)*(1-x2)\n",
    "\n",
    "def sd_fleiss(po, pe, matrix):\n",
    "\n",
    "    y1 = 0\n",
    "    y2 = 0 \n",
    "    k = len(matrix) -1\n",
    "\n",
    "    for i in range (k):\n",
    "        for j in range(k):\n",
    "            if j != i:\n",
    "                carre = (matrix.loc[k,i] + matrix.loc[j,k])\n",
    "                carre = carre*carre\n",
    "                y1 += matrix.loc[i,j] * carre\n",
    "        carre2 = (matrix.loc[k,i] + matrix.loc[i,k])  \n",
    "        carre2 = carre2*carre2   \n",
    "        y2 += matrix.loc[i,i] * carre2\n",
    "\n",
    "    y3 = (po*pe - (2*pe) + po)\n",
    "    y3 = y3*y3\n",
    "\n",
    "    x = po*ci(pe,pe) + ci(po, po)* y1 -2*ci(pe,po)*y2 - y3\n",
    "    res = sqrt(x)\n",
    "    \n",
    "    return res/((1-pe)*(1-pe))\n",
    "\n",
    "\n",
    "def kappa(po, pe):\n",
    "    return (po-pe)/(1-pe)\n",
    "\n",
    "\n",
    "def confidence_interval(matrix: pd.DataFrame, func:callable):\n",
    "    \n",
    "    po = observed_proportion(matrix)\n",
    "    pe = agreement_proportion(matrix)\n",
    "\n",
    "    se = func(po, pe, matrix)/ sqrt(len(matrix))\n",
    "\n",
    "    low = -1.96 * se(matrix, func) + kappa(po, pe)\n",
    "    high = 1.96 * se(matrix, func) + kappa(po, pe)\n",
    "\n",
    "    return low, high\n"
   ]
  },
  {
   "cell_type": "code",
   "execution_count": 1,
   "metadata": {},
   "outputs": [],
   "source": [
    "list_categories = [\n",
    "    \"Models and algorithms\",\n",
    "    \"Datasets\",\n",
    "    \"Code\",\n",
    "    \"Experimental results\",\n",
    "    \"Error bars or statistical significance\",\n",
    "    #\"Statement\",\n",
    "    \"Comments\",\n",
    "    \"Meta-categories\",\n",
    "]\n",
    "columns = ['category', 'review 1', 'review 2', 'review 3', 'all reviews']\n",
    "\n"
   ]
  },
  {
   "cell_type": "code",
   "execution_count": 5,
   "metadata": {},
   "outputs": [],
   "source": [
    "\n",
    "# Enter the path to the tsv file with the rating from the first reviwer\n",
    "path_tsv = \"/Users/camille.brianceau/aramis/reproducibility-reviews/annotations/annotations_elina2.tsv\"\n",
    "df_rating_1 = pd.read_csv(path_tsv, sep = \"\\t\", index_col=False, header= None)\n",
    "df_rating_1 = df_rating_1.dropna()\n",
    "\n"
   ]
  },
  {
   "cell_type": "code",
   "execution_count": 6,
   "metadata": {},
   "outputs": [],
   "source": [
    "# Enter the path to the tsv file with the rating from the second reviwer\n",
    "path_tsv = \"/Users/camille.brianceau/aramis/reproducibility-reviews/annotations/annotations_olivier2.tsv\"\n",
    "df_rating_2 = pd.read_csv(path_tsv, sep = \"\\t\", index_col=False, header= None)\n",
    "df_rating_2 = df_rating_2.dropna()"
   ]
  },
  {
   "cell_type": "code",
   "execution_count": null,
   "metadata": {},
   "outputs": [],
   "source": []
  }
 ],
 "metadata": {
  "kernelspec": {
   "display_name": "reproducibility-reviews",
   "language": "python",
   "name": "python3"
  },
  "language_info": {
   "codemirror_mode": {
    "name": "ipython",
    "version": 3
   },
   "file_extension": ".py",
   "mimetype": "text/x-python",
   "name": "python",
   "nbconvert_exporter": "python",
   "pygments_lexer": "ipython3",
   "version": "3.10.13"
  }
 },
 "nbformat": 4,
 "nbformat_minor": 2
}
