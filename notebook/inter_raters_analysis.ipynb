{
 "cells": [
  {
   "cell_type": "code",
   "execution_count": 291,
   "metadata": {},
   "outputs": [],
   "source": [
    "import pandas as pd\n",
    "import statistics\n",
    "import matplotlib.pyplot as plt\n",
    "from sklearn.metrics import cohen_kappa_score\n",
    "import numpy as np\n",
    "from math import sqrt\n",
    "import random"
   ]
  },
  {
   "cell_type": "code",
   "execution_count": 292,
   "metadata": {},
   "outputs": [],
   "source": [
    "# boostrap function for cohen kappa score \n",
    "def bootstrap_cqk(y_true, y_pred, quad=False, num_resamples = 999):\n",
    "    Y = np.array([y_true, y_pred]).T\n",
    "\n",
    "    weighted_kappas = []\n",
    "    for i in range(num_resamples):\n",
    "        Y_resample = np.array(random.choices(Y, k=len(Y)))\n",
    "        y_true_resample = Y_resample[:, 0]\n",
    "        y_pred_resample = Y_resample[:, 1]\n",
    "        if quad==False:\n",
    "            weighted_kappa = cohen_kappa_score(y_true_resample.astype(str), y_pred_resample.astype(str))\n",
    "        else: \n",
    "            weighted_kappa = cohen_kappa_score(y_true_resample.astype(str), y_pred_resample.astype(str), weights='quadratic')\n",
    "        weighted_kappas.append(weighted_kappa)\n",
    "\n",
    "    return np.mean(weighted_kappas), np.std(weighted_kappas), np.percentile(weighted_kappas, 2.25), np.percentile(weighted_kappas, 97.5)\n",
    "\n"
   ]
  },
  {
   "cell_type": "code",
   "execution_count": 293,
   "metadata": {},
   "outputs": [],
   "source": [
    "# function to create confusion matrix \n",
    "def create_confusion_matrix(list_1: list , list_2: list)-> pd.DataFrame:\n",
    "    if not len(list_1)==len(list_2):\n",
    "        print(\"reviwer 1 and 2 may haven't rated the same list of subjects\")\n",
    "\n",
    "    else:\n",
    "        list_attributs = []\n",
    "        for i in list_1:\n",
    "            if i not in list_attributs:\n",
    "                list_attributs.append(i)\n",
    "        for i in list_2:\n",
    "            if i not in list_attributs:\n",
    "                list_attributs.append(i)\n",
    "\n",
    "\n",
    "        size = len(list_attributs)\n",
    "        matrix = pd.DataFrame(np.zeros((size + 1, size + 1)))\n",
    "        for k in range(size):\n",
    "            for l in range(size):\n",
    "                att_1 = list_attributs[k]\n",
    "                att_2 = list_attributs[l]\n",
    "                for i in range(len(list_1)):\n",
    "                    if (list_1[i]== att_1):\n",
    "                        if list_2[i] == att_2 :\n",
    "                                matrix.loc[k,l]+=1\n",
    "        for i in range(size):\n",
    "            for j in range(size):\n",
    "                matrix.loc[size, i] += matrix.loc[j, i]\n",
    "                matrix.loc[i, size] += matrix.loc[i, j]\n",
    "        for i in range(size):      \n",
    "            matrix.loc[size, size] += matrix.loc[i, size]\n",
    "        matrix = matrix / len(list_1)\n",
    "    return matrix"
   ]
  },
  {
   "cell_type": "code",
   "execution_count": 294,
   "metadata": {},
   "outputs": [],
   "source": [
    "# function to calculate the overall proportion of agreement expected by chance\n",
    "def expected_proportion(matrix: pd.DataFrame):\n",
    "    pe = 0\n",
    "    k = len(matrix)-1\n",
    "    for i in range(k):\n",
    "        pe += matrix.loc[i, k] * matrix.loc[k, i]\n",
    "    return pe\n",
    "\n",
    "# function to calculate the overall proportion of observed agreement \n",
    "def observed_proportion(matrix: pd.DataFrame):\n",
    "    po = 0\n",
    "    k = len(matrix) - 1\n",
    "    for i in range(k):\n",
    "        po += matrix.loc[i, i]\n",
    "    return po"
   ]
  },
  {
   "cell_type": "code",
   "execution_count": 295,
   "metadata": {},
   "outputs": [],
   "source": [
    "# function to calculate the standard error\n",
    "def sd_cohen(po, pe):\n",
    "    sd_= sqrt((po*(1-po))/((1-pe)*(1-pe)))\n",
    "    return sd_"
   ]
  },
  {
   "cell_type": "code",
   "execution_count": 334,
   "metadata": {},
   "outputs": [],
   "source": [
    "\n",
    "def sd_fleiss(po, pe, matrix):\n",
    "    y1 = 0\n",
    "    y2 = 0 \n",
    "    k = len(matrix) -1\n",
    "\n",
    "    for i in range (k):\n",
    "        for j in range(k):\n",
    "            if j != i:\n",
    "                carre = (matrix.loc[k,i] + matrix.loc[j,k])\n",
    "                carre = carre*carre\n",
    "                y1 += matrix.loc[i,j] * carre\n",
    "        carre2 = (matrix.loc[k,i] + matrix.loc[i,k])  \n",
    "        carre2 = carre2*carre2   \n",
    "        y2 += matrix.loc[i,i] * carre2\n",
    "    y3 = ((po*pe) - (2*pe) + po)\n",
    "    y3 = y3*y3\n",
    "    x = (po*(1-pe)*(1-pe)) + ((1-po)*(1-po)* y1) - (2*(1-pe)*(1-po)*y2) - y3\n",
    "\n",
    "    \n",
    "    if x < 0:\n",
    "        x = 0\n",
    "    res = sqrt(x)\n",
    "    sd_ = res/((1-pe)*(1-pe))\n",
    "    return sd_\n",
    "\n"
   ]
  },
  {
   "cell_type": "code",
   "execution_count": 335,
   "metadata": {},
   "outputs": [],
   "source": [
    "# function to calculcate the kappa score\n",
    "def kappa(po, pe):\n",
    "    return (po-pe)/(1-pe)"
   ]
  },
  {
   "cell_type": "code",
   "execution_count": 336,
   "metadata": {},
   "outputs": [],
   "source": [
    "# function to write stats in the dataframe\n",
    "def write_stat(df_final, category, method, kappa_, low_, high_, sd_, N):\n",
    "    df_final.loc[category, (\"kappa score\", method)]=kappa_\n",
    "    df_final.loc[category, (\"ci low\", method)]=low_\n",
    "    df_final.loc[category, (\"ci high\", method)]=high_\n",
    "    df_final.loc[category, (\"sd\", method)]=sd_\n",
    "    df_final.loc[category, (\"se\", method)]=sd_/sqrt(N)"
   ]
  },
  {
   "cell_type": "code",
   "execution_count": 337,
   "metadata": {},
   "outputs": [],
   "source": [
    "\n",
    "# Enter the path to the tsv file with the rating from the first reviwer\n",
    "path_tsv = \"../rating/rating_E.tsv\"\n",
    "df_rating_1 = pd.read_csv(path_tsv, sep = \"\\t\", index_col=False, header= None)\n",
    "df_rating_1 = df_rating_1.dropna()\n"
   ]
  },
  {
   "cell_type": "code",
   "execution_count": 338,
   "metadata": {},
   "outputs": [],
   "source": [
    "# Enter the path to the tsv file with the rating from the second reviwer\n",
    "path_tsv = \"../rating/rating_O.tsv\"\n",
    "df_rating_2 = pd.read_csv(path_tsv, sep = \"\\t\", index_col=False, header= None)\n",
    "df_rating_2 = df_rating_2.dropna()"
   ]
  },
  {
   "cell_type": "code",
   "execution_count": 339,
   "metadata": {},
   "outputs": [],
   "source": [
    "# list of categories you want to make statistics for\n",
    "list_categories = [\n",
    "        \"Models and algorithms\",\n",
    "        \"Datasets\",\n",
    "        \"Code\",\n",
    "        \"Experimental results\",\n",
    "        \"Error bars or statistical significance\",\n",
    "        \"Statement\",\n",
    "        \"Comments\",\n",
    "        \"Meta-categories\",\n",
    "    ]\n",
    "list_methods = [\"bootstrap\", \"cohen\", \"fleiss\"]"
   ]
  },
  {
   "cell_type": "code",
   "execution_count": 340,
   "metadata": {},
   "outputs": [
    {
     "name": "stdout",
     "output_type": "stream",
     "text": [
      "Index(['Models and algorithms', 'Datasets', 'Code', 'Experimental results',\n",
      "       'Error bars or statistical significance', 'Statement', 'Comments',\n",
      "       'Meta-categories'],\n",
      "      dtype='object')\n",
      "MultiIndex([('kappa score', 'bootstrap'),\n",
      "            ('kappa score',     'cohen'),\n",
      "            ('kappa score',    'fleiss'),\n",
      "            (     'ci low', 'bootstrap'),\n",
      "            (     'ci low',     'cohen'),\n",
      "            (     'ci low',    'fleiss'),\n",
      "            (    'ci high', 'bootstrap'),\n",
      "            (    'ci high',     'cohen'),\n",
      "            (    'ci high',    'fleiss'),\n",
      "            (         'sd', 'bootstrap'),\n",
      "            (         'sd',     'cohen'),\n",
      "            (         'sd',    'fleiss'),\n",
      "            (         'se', 'bootstrap'),\n",
      "            (         'se',     'cohen'),\n",
      "            (         'se',    'fleiss')],\n",
      "           names=['stat', 'method'])\n"
     ]
    }
   ],
   "source": [
    "# function to create the DataFrame \n",
    "\n",
    "list_stats = [\"kappa score\", \"ci low\", \"ci high\", \"sd\", \"se\"]\n",
    "\n",
    "index_line = pd.Index(list_categories)\n",
    "index_column = pd.MultiIndex.from_product( [list_stats, list_methods], names=[\"stat\", \"method\"])\n",
    "\n",
    "df_final = pd.DataFrame(index=index_line, columns=index_column)\n",
    "\n",
    "print(df_final.index)\n",
    "print(df_final.columns)"
   ]
  },
  {
   "cell_type": "code",
   "execution_count": 341,
   "metadata": {},
   "outputs": [
    {
     "name": "stdout",
     "output_type": "stream",
     "text": [
      "For 'Models and algorithms' review :\n",
      "kappa bootstrap = 0.9012925146900933\n",
      "ci bootstrap = [0.8008414795244386, 0.9803149606299213]\n",
      "standard deviation bootstrap = 0.0432087271573852\n",
      "standard error = sd / sqrt(N) = 0.003944399090864324\n",
      "**************************************************\n",
      "For 'Datasets' review :\n",
      "kappa bootstrap = 0.9294474531563743\n",
      "ci bootstrap = [0.8495821727019499, 0.9832402234636871]\n",
      "standard deviation bootstrap = 0.0341379927510436\n",
      "standard error = sd / sqrt(N) = 0.003116358116282404\n",
      "**************************************************\n",
      "For 'Code' review :\n",
      "kappa bootstrap = 0.9821702642715909\n",
      "ci bootstrap = [0.9437513387104136, 1.0]\n",
      "standard deviation bootstrap = 0.01818258488528307\n",
      "standard error = sd / sqrt(N) = 0.00165983531590367\n",
      "**************************************************\n",
      "For 'Experimental results' review :\n",
      "kappa bootstrap = 0.8658549004050251\n",
      "ci bootstrap = [0.7283531409168083, 0.9705882352941176]\n",
      "standard deviation bootstrap = 0.06016380593001084\n",
      "standard error = sd / sqrt(N) = 0.005492178942205003\n",
      "**************************************************\n",
      "For 'Statement' review :\n",
      "kappa bootstrap = 0.7404424784084908\n",
      "ci bootstrap = [0.6382892296120043, 0.8410438916542163]\n",
      "standard deviation bootstrap = 0.05133626025133209\n",
      "standard error = sd / sqrt(N) = 0.004686337959601735\n",
      "**************************************************\n",
      "For 'Comments' review :\n",
      "kappa bootstrap = 0.7058750750913076\n",
      "ci bootstrap = [0.6097112934583775, 0.7926763812734499]\n",
      "standard deviation bootstrap = 0.04855526913048138\n",
      "standard error = sd / sqrt(N) = 0.004432469364749818\n",
      "**************************************************\n",
      "For 'Meta-categories' review :\n",
      "kappa bootstrap = 0.9809290200328818\n",
      "ci bootstrap = [0.9379310344827586, 1.0]\n",
      "standard deviation bootstrap = 0.01935282396760856\n",
      "standard error = sd / sqrt(N) = 0.0017666630397476396\n",
      "**************************************************\n"
     ]
    }
   ],
   "source": [
    "\n",
    "for category in range(len(list_categories)):\n",
    "    all_reviews_1 = []\n",
    "    all_reviews_2 = []\n",
    "    for i in range(3):\n",
    "\n",
    "        if list_categories[category] == \"Meta-categories\":\n",
    "            column_id = i + 20\n",
    "        else: \n",
    "            column_id = i*8 + 3 + category\n",
    "        \n",
    "        list_review_1 = df_rating_1.loc[2:, column_id].values.tolist()\n",
    "        list_review_2 = df_rating_2.loc[2:, column_id].values.tolist()\n",
    "\n",
    "        all_reviews_1 = all_reviews_1 + list_review_1\n",
    "        all_reviews_2 = all_reviews_2 + list_review_2\n",
    "\n",
    "    if all_reviews_1 != all_reviews_2:\n",
    "        # all reviews \n",
    "        N = len(all_reviews_1)\n",
    "\n",
    "        kappa_btp, sd_btp, low_btp, high_btp = bootstrap_cqk(y_true=all_reviews_1, y_pred=all_reviews_2)\n",
    "        write_stat(df_final, list_categories[category], \"bootstrap\", kappa_btp, low_btp, high_btp, sd_btp, N)\n",
    "        \n",
    "        confusion_matrix = create_confusion_matrix(list_1=all_reviews_1, list_2=all_reviews_2)\n",
    "        po_ = observed_proportion(confusion_matrix)\n",
    "        pe_ = expected_proportion(confusion_matrix)\n",
    "        kappa_ = kappa(po_, pe_)\n",
    "        \n",
    "        sd_cohen_ = sd_cohen(po_, pe_)\n",
    "        write_stat(df_final, list_categories[category], \"cohen\", kappa_, -1.96 * sd_cohen_ + kappa_, 1.96 * sd_cohen_ + kappa_, sd_cohen_, N)\n",
    "\n",
    "        sd_fleiss_ = sd_fleiss(po_, pe_, confusion_matrix)\n",
    "        write_stat(df_final, list_categories[category], \"fleiss\", kappa_, -1.96 * sd_fleiss_ + kappa_, 1.96 * sd_fleiss_ + kappa_, sd_fleiss_, N)\n",
    "\n",
    "        print(f\"For '{list_categories[category]}' review :\")\n",
    "        print(f\"kappa bootstrap = {kappa_btp}\")\n",
    "        print(f\"ci bootstrap = [{low_btp}, {high_btp}]\")\n",
    "        print(f\"standard deviation bootstrap = {sd_btp}\")\n",
    "        print(f\"standard error = sd / sqrt(N) = {sd_btp/sqrt(N)}\")\n",
    "        print(\"**************************************************\")\n",
    "    else: \n",
    "        write_stat(df_final, list_categories[category], \"cohen\", 1,  1, 1, 1, N)\n",
    "        write_stat(df_final, list_categories[category], \"bootstrap\", 1, 1, 1, 1, N)\n",
    "        write_stat(df_final, list_categories[category], \"fleiss\", 1, 1,1,1, N)\n"
   ]
  },
  {
   "cell_type": "code",
   "execution_count": 342,
   "metadata": {},
   "outputs": [
    {
     "name": "stdout",
     "output_type": "stream",
     "text": [
      "For Agreement review :\n",
      "kappa bootstrap = 0.8104407649220289\n",
      "ci bootstrap = [0.6319839399848337, 0.9577834198960805]\n",
      "standard deviation bootstrap = 0.07899116949102719\n",
      "standard error = sd / sqrt(N) = 0.012489600531602467\n"
     ]
    }
   ],
   "source": [
    "\n",
    "# add agreement review\n",
    "\n",
    "list_agreement_1 = df_rating_1.loc[2:, 29].values.tolist()\n",
    "list_agreement_2 = df_rating_2.loc[2:, 29].values.tolist()\n",
    "N = len(list_agreement_1)\n",
    "\n",
    "kappa_btp, sd_btp, low_btp, high_btp = bootstrap_cqk(y_true=list_agreement_1, y_pred=list_agreement_2)\n",
    "write_stat(df_final, \"Agreement\", \"bootstrap\", kappa_btp, low_btp, high_btp, sd_btp, N)\n",
    "\n",
    "confusion_matrix = create_confusion_matrix(list_1=list_agreement_1, list_2=list_agreement_2)\n",
    "po_ = observed_proportion(confusion_matrix)\n",
    "pe_ = expected_proportion(confusion_matrix)\n",
    "kappa_ = kappa(po_, pe_)\n",
    "\n",
    "sd_cohen_ = sd_cohen(po_, pe_)\n",
    "write_stat(df_final, \"Agreement\", \"cohen\", kappa_, -1.96 * sd_cohen_ + kappa_, 1.96 * sd_cohen_ + kappa_, sd_cohen_, N)\n",
    "\n",
    "sd_fleiss_ = sd_fleiss(po_, pe_, confusion_matrix)\n",
    "write_stat(df_final, \"Agreement\", \"fleiss\", kappa_, -1.96 * sd_fleiss_ + kappa_, 1.96 * sd_fleiss_ + kappa_, sd_fleiss_, N)\n",
    "\n",
    "print(f\"For Agreement review :\")\n",
    "print(f\"kappa bootstrap = {kappa_btp}\")\n",
    "print(f\"ci bootstrap = [{low_btp}, {high_btp}]\")\n",
    "print(f\"standard deviation bootstrap = {sd_btp}\")\n",
    "print(f\"standard error = sd / sqrt(N) = {sd_btp/sqrt(N)}\")"
   ]
  },
  {
   "cell_type": "code",
   "execution_count": 323,
   "metadata": {},
   "outputs": [],
   "source": [
    "\n",
    "df_final.to_csv(\"../rating/rating_analysis.csv\", index = True, sep=\";\", encoding='utf-8')\n"
   ]
  },
  {
   "cell_type": "code",
   "execution_count": null,
   "metadata": {},
   "outputs": [],
   "source": []
  }
 ],
 "metadata": {
  "kernelspec": {
   "display_name": "reproducibility-reviews",
   "language": "python",
   "name": "python3"
  },
  "language_info": {
   "codemirror_mode": {
    "name": "ipython",
    "version": 3
   },
   "file_extension": ".py",
   "mimetype": "text/x-python",
   "name": "python",
   "nbconvert_exporter": "python",
   "pygments_lexer": "ipython3",
   "version": "3.10.13"
  }
 },
 "nbformat": 4,
 "nbformat_minor": 2
}
