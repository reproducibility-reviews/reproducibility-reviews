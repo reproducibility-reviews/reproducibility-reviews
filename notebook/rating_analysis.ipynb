{
 "cells": [
  {
   "cell_type": "code",
   "execution_count": 66,
   "metadata": {},
   "outputs": [],
   "source": [
    "import pandas as pd"
   ]
  },
  {
   "cell_type": "code",
   "execution_count": 67,
   "metadata": {},
   "outputs": [],
   "source": [
    "list_0_1= [\n",
    "    \"Models and algorithms\",\n",
    "    \"Datasets\",\n",
    "    \"Code\",\n",
    "    \"Experimental results\",\n",
    "    \"Error bars or statistical significance\",\n",
    "    ]\n",
    "\n",
    "statement_list = [\n",
    "    \"3. (+) statement\",\n",
    "    \"2. (-) statement \",\n",
    "    \"1. (none) statement\",\n",
    "    \"0. Unusable (statement)\",\n",
    "]\n",
    "\n",
    "comments_list = [\n",
    "    \"4. (-/+) comments\",\n",
    "    \"3. (+) comments\",\n",
    "    \"2. (-) comments\",\n",
    "    \"1. (none) comments\",\n",
    "    \"0. Unusable (comments)\",\n",
    "]\n",
    "\n",
    "meta_categories_list = [\n",
    "    \"Reproducible\",\n",
    "    \"Irreproducible\",\n",
    "    \"Unusable\",\n",
    "]\n",
    "\n",
    "agreement_list = [\n",
    "    \"Agreement\",\n",
    "    \"Disagreement\",\n",
    "    \"Unusable\",\n",
    "]"
   ]
  },
  {
   "cell_type": "code",
   "execution_count": 79,
   "metadata": {},
   "outputs": [
    {
     "name": "stdout",
     "output_type": "stream",
     "text": [
      "This notebook analyze the 3 reviews of the 40 different papers.\n"
     ]
    }
   ],
   "source": [
    "# Enter the path to the tsv file with the rating from the first reviwer\n",
    "path_tsv = \"../rating/rating_E.tsv\"\n",
    "df_rating_1 = pd.read_csv(path_tsv, sep = \"\\t\", index_col=False, header= None)\n",
    "df_rating_1 = df_rating_1.dropna()  \n",
    "\n",
    "print(f\"This notebook analyze the 3 reviews of the {len(df_rating_1)-1} different papers.\")"
   ]
  },
  {
   "cell_type": "code",
   "execution_count": 69,
   "metadata": {},
   "outputs": [
    {
     "name": "stdout",
     "output_type": "stream",
     "text": [
      "For category Models and algorithms, 37 reviewers on 120 has commented on at least one of the items of the category.\n",
      "For category Datasets, 48 reviewers on 120 has commented on at least one of the items of the category.\n",
      "For category Code, 49 reviewers on 120 has commented on at least one of the items of the category.\n",
      "For category Experimental results, 20 reviewers on 120 has commented on at least one of the items of the category.\n",
      "For category Error bars or statistical significance, 3 reviewers on 120 has commented on at least one of the items of the category.\n"
     ]
    }
   ],
   "source": [
    "\n",
    "for category in range(len(list_0_1)):\n",
    "    all_reviews_1 = []\n",
    "    for i in range(3):\n",
    "        column_id = i*8 + 3 + category\n",
    "        list_review_1 = df_rating_1.loc[2:, column_id].values.tolist()\n",
    "        all_reviews_1 = all_reviews_1 + list_review_1\n",
    "\n",
    "    count_ = all_reviews_1.count(\"1\")\n",
    "\n",
    "    print(f\"For category {list_0_1[category]}, {count_} reviewers on {len(all_reviews_1)} has commented on at least one of the items of the category.\")\n",
    "    #print(count_)\n",
    "    \n"
   ]
  },
  {
   "cell_type": "code",
   "execution_count": 70,
   "metadata": {},
   "outputs": [
    {
     "name": "stdout",
     "output_type": "stream",
     "text": [
      "For category statement (on 120 reviewers):\n",
      "- 54 reviewers in category 3. (+) statement\n",
      "- 7 reviewers in category 2. (-) statement \n",
      "- 56 reviewers in category 1. (none) statement\n",
      "- 3 reviewers in category 0. Unusable (statement)\n"
     ]
    }
   ],
   "source": [
    "# statements\n",
    "reviews_statement = []\n",
    "for i in range(3):\n",
    "    column_id = i*8 + 8\n",
    "    list_review_1 = df_rating_1.loc[2:, column_id].values.tolist()\n",
    "    reviews_statement = reviews_statement + list_review_1\n",
    "\n",
    "print(f\"For category statement (on {len(reviews_statement)} reviewers):\")\n",
    "for rating in statement_list:\n",
    "    count_ = reviews_statement.count(rating)\n",
    "    print(f\"- {count_} reviewers in category {rating}\")\n"
   ]
  },
  {
   "cell_type": "code",
   "execution_count": 71,
   "metadata": {},
   "outputs": [
    {
     "name": "stdout",
     "output_type": "stream",
     "text": [
      "For category comments (on 120 reviewers):\n",
      "- 23 reviewers in category 4. (-/+) comments\n",
      "- 32 reviewers in category 3. (+) comments\n",
      "- 33 reviewers in category 2. (-) comments\n",
      "- 28 reviewers in category 1. (none) comments\n",
      "- 4 reviewers in category 0. Unusable (comments)\n"
     ]
    }
   ],
   "source": [
    "# comments\n",
    "reviews_comments = []\n",
    "for i in range(3):\n",
    "    column_id = i*8 + 9\n",
    "    list_review_1 = df_rating_1.loc[2:, column_id].values.tolist()\n",
    "    reviews_comments = reviews_comments + list_review_1\n",
    "\n",
    "print(f\"For category comments (on {len(reviews_comments)} reviewers):\")\n",
    "for rating in comments_list:\n",
    "    count_ = reviews_comments.count(rating)\n",
    "    print(f\"- {count_} reviewers in category {rating}\")\n"
   ]
  },
  {
   "cell_type": "code",
   "execution_count": 72,
   "metadata": {},
   "outputs": [
    {
     "name": "stdout",
     "output_type": "stream",
     "text": [
      "For category meta-categories (on 120 reviewers):\n",
      "- 68 reviewers in category Reproducible\n",
      "- 45 reviewers in category Irreproducible\n",
      "- 7 reviewers in category Unusable\n"
     ]
    }
   ],
   "source": [
    "# meta categories\n",
    "reviews_meta = []\n",
    "for i in range(3):\n",
    "    column_id = i + 26\n",
    "    list_review_1 = df_rating_1.loc[2:, column_id].values.tolist()\n",
    "    reviews_meta = reviews_meta + list_review_1\n",
    "\n",
    "print(f\"For category meta-categories (on {len(reviews_meta)} reviewers):\")\n",
    "for rating in meta_categories_list:\n",
    "    count_ = reviews_meta.count(rating)\n",
    "    print(f\"- {count_} reviewers in category {rating}\")"
   ]
  },
  {
   "cell_type": "code",
   "execution_count": 73,
   "metadata": {},
   "outputs": [
    {
     "name": "stdout",
     "output_type": "stream",
     "text": [
      "For category meta-categories (on 40 reviewers):\n",
      "- 13 reviewers in category Agreement\n",
      "- 27 reviewers in category Disagreement\n",
      "- 0 reviewers in category Unusable\n"
     ]
    }
   ],
   "source": [
    "# meta categories\n",
    "column_id = 35\n",
    "reviews_agreement = df_rating_1.loc[2:, column_id].values.tolist()\n",
    "\n",
    "print(f\"For category meta-categories (on {len(reviews_agreement)} reviewers):\")\n",
    "for rating in agreement_list:\n",
    "    count_ = reviews_agreement.count(rating)\n",
    "    print(f\"- {count_} reviewers in category {rating}\")"
   ]
  },
  {
   "cell_type": "code",
   "execution_count": 74,
   "metadata": {},
   "outputs": [
    {
     "name": "stdout",
     "output_type": "stream",
     "text": [
      "For the 120 reviews:\n",
      "- 18 reviews with good comments and  good statement,\n",
      "- 14 reviews with good comments and no or bad or unusable statement,\n",
      "- 36 reviews with no or bad or unusable comments and good statement,\n",
      "- 52 reviews with no or bad or unusable comments and no or bad or unnusable statement,\n"
     ]
    }
   ],
   "source": [
    "# Satements and Comments\n",
    "no_com_stat = 0\n",
    "com_no_stat = 0\n",
    "no_com_no_stat = 0\n",
    "com_stat =0\n",
    "for i in range(len(reviews_comments)):\n",
    "    if reviews_comments[i]== \"3. (+) comments\" and reviews_statement[i] != \"3. (+) statement\":\n",
    "        com_no_stat +=1\n",
    "    \n",
    "    if reviews_comments[i]!= \"3. (+) comments\" and reviews_statement[i] != \"3. (+) statement\":\n",
    "        no_com_no_stat +=1\n",
    "\n",
    "    if reviews_comments[i]== \"3. (+) comments\" and reviews_statement[i] == \"3. (+) statement\":\n",
    "        com_stat +=1\n",
    "\n",
    "    if reviews_comments[i]!= \"3. (+) comments\" and reviews_statement[i] == \"3. (+) statement\":\n",
    "        no_com_stat +=1\n",
    "\n",
    "print(f\"For the {len(reviews_comments)} reviews:\")\n",
    "print(f\"- {com_stat} reviews with good comments and  good statement,\")\n",
    "print(f\"- {com_no_stat} reviews with good comments and no or bad or unusable statement,\")\n",
    "print(f\"- {no_com_stat} reviews with no or bad or unusable comments and good statement,\")\n",
    "print(f\"- {no_com_no_stat} reviews with no or bad or unusable comments and no or bad or unnusable statement,\")\n",
    "\n"
   ]
  },
  {
   "cell_type": "code",
   "execution_count": 75,
   "metadata": {},
   "outputs": [
    {
     "name": "stdout",
     "output_type": "stream",
     "text": [
      "For the 54 reviews with a good statement, 54 are considered reproducible,\n"
     ]
    }
   ],
   "source": [
    "# meta categorie et statements\n",
    "count_stat=0\n",
    "count_repro_stat = 0\n",
    "for i in range(len(reviews_meta)):\n",
    "    if reviews_statement[i] == \"3. (+) statement\":\n",
    "        count_stat += 1\n",
    "        if reviews_meta[i]== \"Reproducible\" :\n",
    "            count_repro_stat +=1\n",
    "\n",
    "print(f\"For the {count_stat} reviews with a good statement, {count_repro_stat} are considered reproducible,\")   "
   ]
  },
  {
   "cell_type": "code",
   "execution_count": 77,
   "metadata": {},
   "outputs": [],
   "source": [
    "# TODO\n",
    "\n",
    "# Regrouper “unusable” et “none”\n",
    "\n",
    "# Code\n",
    "# Repo present et non vide\n",
    "# Compte\n",
    "# Cohérence repo / review\n",
    "# Compte\n",
    "\n",
    "# add function to save all results in a file\n"
   ]
  },
  {
   "cell_type": "code",
   "execution_count": null,
   "metadata": {},
   "outputs": [],
   "source": []
  },
  {
   "cell_type": "code",
   "execution_count": null,
   "metadata": {},
   "outputs": [],
   "source": []
  }
 ],
 "metadata": {
  "kernelspec": {
   "display_name": "reproducibility-reviews",
   "language": "python",
   "name": "python3"
  },
  "language_info": {
   "codemirror_mode": {
    "name": "ipython",
    "version": 3
   },
   "file_extension": ".py",
   "mimetype": "text/x-python",
   "name": "python",
   "nbconvert_exporter": "python",
   "pygments_lexer": "ipython3",
   "version": "3.10.13"
  }
 },
 "nbformat": 4,
 "nbformat_minor": 2
}
