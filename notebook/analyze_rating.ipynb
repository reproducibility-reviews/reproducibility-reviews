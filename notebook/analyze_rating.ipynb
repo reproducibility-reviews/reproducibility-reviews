{
 "cells": [
  {
   "cell_type": "code",
   "execution_count": 291,
   "metadata": {},
   "outputs": [],
   "source": [
    "import pandas as pd\n",
    "import statistics\n",
    "import matplotlib.pyplot as plt\n",
    "from sklearn.metrics import cohen_kappa_score\n",
    "import numpy as np\n",
    "from math import sqrt\n",
    "import random"
   ]
  },
  {
   "cell_type": "code",
   "execution_count": 292,
   "metadata": {},
   "outputs": [],
   "source": [
    "# boostrap function for cohen kappa score \n",
    "def bootstrap_cqk(y_true, y_pred, quad=False, num_resamples = 999):\n",
    "    Y = np.array([y_true, y_pred]).T\n",
    "\n",
    "    weighted_kappas = []\n",
    "    for i in range(num_resamples):\n",
    "        Y_resample = np.array(random.choices(Y, k=len(Y)))\n",
    "        y_true_resample = Y_resample[:, 0]\n",
    "        y_pred_resample = Y_resample[:, 1]\n",
    "        if quad==False:\n",
    "            weighted_kappa = cohen_kappa_score(y_true_resample.astype(str), y_pred_resample.astype(str))\n",
    "        else: \n",
    "            weighted_kappa = cohen_kappa_score(y_true_resample.astype(str), y_pred_resample.astype(str), weights='quadratic')\n",
    "        weighted_kappas.append(weighted_kappa)\n",
    "\n",
    "    return np.mean(weighted_kappas), np.std(weighted_kappas), np.percentile(weighted_kappas, 2.25), np.percentile(weighted_kappas, 97.5)\n",
    "\n"
   ]
  },
  {
   "cell_type": "code",
   "execution_count": 293,
   "metadata": {},
   "outputs": [],
   "source": [
    "# function to create confusion matrix \n",
    "def create_confusion_matrix(list_1: list , list_2: list)-> pd.DataFrame:\n",
    "    if not len(list_1)==len(list_2):\n",
    "        print(\"reviwer 1 and 2 may haven't rated the same list of subjects\")\n",
    "\n",
    "    else:\n",
    "        list_attributs = []\n",
    "        for i in list_1:\n",
    "            if i not in list_attributs:\n",
    "                list_attributs.append(i)\n",
    "        for i in list_2:\n",
    "            if i not in list_attributs:\n",
    "                list_attributs.append(i)\n",
    "\n",
    "\n",
    "        size = len(list_attributs)\n",
    "        matrix = pd.DataFrame(np.zeros((size + 1, size + 1)))\n",
    "        for k in range(size):\n",
    "            for l in range(size):\n",
    "                att_1 = list_attributs[k]\n",
    "                att_2 = list_attributs[l]\n",
    "                for i in range(len(list_1)):\n",
    "                    if (list_1[i]== att_1):\n",
    "                        if list_2[i] == att_2 :\n",
    "                                matrix.loc[k,l]+=1\n",
    "        for i in range(size):\n",
    "            for j in range(size):\n",
    "                matrix.loc[size, i] += matrix.loc[j, i]\n",
    "                matrix.loc[i, size] += matrix.loc[i, j]\n",
    "        for i in range(size):      \n",
    "            matrix.loc[size, size] += matrix.loc[i, size]\n",
    "        matrix = matrix / len(list_1)\n",
    "    return matrix"
   ]
  },
  {
   "cell_type": "code",
   "execution_count": 294,
   "metadata": {},
   "outputs": [],
   "source": [
    "# function to calculate the overall proportion of agreement expected by chance\n",
    "def expected_proportion(matrix: pd.DataFrame):\n",
    "    pe = 0\n",
    "    k = len(matrix)-1\n",
    "    for i in range(k):\n",
    "        pe += matrix.loc[i, k] * matrix.loc[k, i]\n",
    "    return pe\n",
    "\n",
    "# function to calculate the overall proportion of observed agreement \n",
    "def observed_proportion(matrix: pd.DataFrame):\n",
    "    po = 0\n",
    "    k = len(matrix) - 1\n",
    "    for i in range(k):\n",
    "        po += matrix.loc[i, i]\n",
    "    return po"
   ]
  },
  {
   "cell_type": "code",
   "execution_count": 295,
   "metadata": {},
   "outputs": [],
   "source": [
    "# function to calculate the standard error\n",
    "def sd_cohen(po, pe):\n",
    "    sd_= sqrt((po*(1-po))/((1-pe)*(1-pe)))\n",
    "    return sd_"
   ]
  },
  {
   "cell_type": "code",
   "execution_count": 313,
   "metadata": {},
   "outputs": [],
   "source": [
    "\n",
    "def sd_fleiss(po, pe, matrix):\n",
    "    y1 = 0\n",
    "    y2 = 0 \n",
    "    k = len(matrix) -1\n",
    "\n",
    "    for i in range (k):\n",
    "        for j in range(k):\n",
    "            if j != i:\n",
    "                carre = (matrix.loc[k,i] + matrix.loc[j,k])\n",
    "                carre = carre*carre\n",
    "                y1 += matrix.loc[i,j] * carre\n",
    "        carre2 = (matrix.loc[k,i] + matrix.loc[i,k])  \n",
    "        carre2 = carre2*carre2   \n",
    "        y2 += matrix.loc[i,i] * carre2\n",
    "    y3 = ((po*pe) - (2*pe) + po)\n",
    "    y3 = y3*y3\n",
    "    x = (po*(1-pe)*(1-pe)) + ((1-po)*(1-po)* y1) - (2*(1-pe)*(1-po)*y2) - y3\n",
    "\n",
    "    \n",
    "    # if x < 0:\n",
    "    #     x = 0\n",
    "    res = sqrt(x)\n",
    "    sd_ = res/((1-pe)*(1-pe))\n",
    "    return sd_\n",
    "\n"
   ]
  },
  {
   "cell_type": "code",
   "execution_count": 314,
   "metadata": {},
   "outputs": [],
   "source": [
    "# function to calculcate the kappa score\n",
    "def kappa(po, pe):\n",
    "    return (po-pe)/(1-pe)"
   ]
  },
  {
   "cell_type": "code",
   "execution_count": 315,
   "metadata": {},
   "outputs": [],
   "source": [
    "# function to write stats in the dataframe\n",
    "def write_stat(df_final, category, method, kappa_, low_, high_, sd_, N):\n",
    "    df_final.loc[category, (\"kappa score\", method)]=kappa_\n",
    "    df_final.loc[category, (\"ci low\", method)]=low_\n",
    "    df_final.loc[category, (\"ci high\", method)]=high_\n",
    "    df_final.loc[category, (\"sd\", method)]=sd_\n",
    "    df_final.loc[category, (\"se\", method)]=sd_/sqrt(N)"
   ]
  },
  {
   "cell_type": "code",
   "execution_count": 316,
   "metadata": {},
   "outputs": [],
   "source": [
    "\n",
    "# Enter the path to the tsv file with the rating from the first reviwer\n",
    "path_tsv = \"../rating/rating_E.tsv\"\n",
    "df_rating_1 = pd.read_csv(path_tsv, sep = \"\\t\", index_col=False, header= None)\n",
    "df_rating_1 = df_rating_1.dropna()\n"
   ]
  },
  {
   "cell_type": "code",
   "execution_count": 317,
   "metadata": {},
   "outputs": [],
   "source": [
    "# Enter the path to the tsv file with the rating from the second reviwer\n",
    "path_tsv = \"../rating/rating_O.tsv\"\n",
    "df_rating_2 = pd.read_csv(path_tsv, sep = \"\\t\", index_col=False, header= None)\n",
    "df_rating_2 = df_rating_2.dropna()"
   ]
  },
  {
   "cell_type": "code",
   "execution_count": 318,
   "metadata": {},
   "outputs": [],
   "source": [
    "# list of categories you want to make statistics for\n",
    "list_categories = [\n",
    "        \"Models and algorithms\",\n",
    "        \"Datasets\",\n",
    "        \"Code\",\n",
    "        \"Experimental results\",\n",
    "        \"Error bars or statistical significance\",\n",
    "        \"Statement\",\n",
    "        \"Comments\",\n",
    "        \"Meta-categories\",\n",
    "    ]\n",
    "list_methods = [\"bootstrap\", \"cohen\", \"fleiss\"]"
   ]
  },
  {
   "cell_type": "code",
   "execution_count": 319,
   "metadata": {},
   "outputs": [
    {
     "name": "stdout",
     "output_type": "stream",
     "text": [
      "Index(['Models and algorithms', 'Datasets', 'Code', 'Experimental results',\n",
      "       'Error bars or statistical significance', 'Statement', 'Comments',\n",
      "       'Meta-categories'],\n",
      "      dtype='object')\n",
      "MultiIndex([('kappa score', 'bootstrap'),\n",
      "            ('kappa score',     'cohen'),\n",
      "            ('kappa score',    'fleiss'),\n",
      "            (     'ci low', 'bootstrap'),\n",
      "            (     'ci low',     'cohen'),\n",
      "            (     'ci low',    'fleiss'),\n",
      "            (    'ci high', 'bootstrap'),\n",
      "            (    'ci high',     'cohen'),\n",
      "            (    'ci high',    'fleiss'),\n",
      "            (         'sd', 'bootstrap'),\n",
      "            (         'sd',     'cohen'),\n",
      "            (         'sd',    'fleiss'),\n",
      "            (         'se', 'bootstrap'),\n",
      "            (         'se',     'cohen'),\n",
      "            (         'se',    'fleiss')],\n",
      "           names=['stat', 'method'])\n"
     ]
    }
   ],
   "source": [
    "# function to create the DataFrame \n",
    "\n",
    "list_stats = [\"kappa score\", \"ci low\", \"ci high\", \"sd\", \"se\"]\n",
    "\n",
    "index_line = pd.Index(list_categories)\n",
    "index_column = pd.MultiIndex.from_product( [list_stats, list_methods], names=[\"stat\", \"method\"])\n",
    "\n",
    "df_final = pd.DataFrame(index=index_line, columns=index_column)\n",
    "\n",
    "print(df_final.index)\n",
    "print(df_final.columns)"
   ]
  },
  {
   "cell_type": "code",
   "execution_count": 325,
   "metadata": {},
   "outputs": [
    {
     "name": "stdout",
     "output_type": "stream",
     "text": [
      "For 'Models and algorithms' review :\n",
      "kappa bootstrap = 0.9022508652632083\n",
      "ci bootstrap = [0.8068087471565124, 0.9803295939817478]\n",
      "standard deviation bootstrap = 0.04352843982853407\n",
      "standard error = sd / sqrt(N) = 0.0039735847311824024\n",
      "**************************************************\n",
      "For 'Datasets' review :\n",
      "kappa bootstrap = 0.9305092126802864\n",
      "ci bootstrap = [0.8612046941239226, 0.9832789878336804]\n",
      "standard deviation bootstrap = 0.033276258911821996\n",
      "standard error = sd / sqrt(N) = 0.003037692939231203\n",
      "**************************************************\n",
      "For 'Code' review :\n",
      "kappa bootstrap = 0.9830424516173248\n",
      "ci bootstrap = [0.9444303732391952, 1.0]\n",
      "standard deviation bootstrap = 0.01713455401175053\n",
      "standard error = sd / sqrt(N) = 0.0015641636241710674\n",
      "**************************************************\n",
      "For 'Experimental results' review :\n",
      "kappa bootstrap = 0.859122566921538\n",
      "ci bootstrap = [0.712793733681462, 0.971671388101983]\n",
      "standard deviation bootstrap = 0.0640156004556051\n",
      "standard error = sd / sqrt(N) = 0.00584379806696215\n",
      "**************************************************\n",
      "For 'Statement' review :\n",
      "kappa bootstrap = 0.7391475725438209\n",
      "ci bootstrap = [0.6321843599734273, 0.8273792060369317]\n",
      "standard deviation bootstrap = 0.05136574564281898\n",
      "standard error = sd / sqrt(N) = 0.0046890295952741095\n",
      "**************************************************\n",
      "For 'Comments' review :\n",
      "kappa bootstrap = 0.7049205212821295\n",
      "ci bootstrap = [0.6069073540721082, 0.8024609971386106]\n",
      "standard deviation bootstrap = 0.05035591649156638\n",
      "standard error = sd / sqrt(N) = 0.004596845227712885\n",
      "**************************************************\n",
      "For 'Meta-categories' review :\n",
      "kappa bootstrap = 0.9815912025116076\n",
      "ci bootstrap = [0.9418604651162791, 1.0]\n",
      "standard deviation bootstrap = 0.018126047064864915\n",
      "standard error = sd / sqrt(N) = 0.0016546741426378033\n",
      "**************************************************\n"
     ]
    }
   ],
   "source": [
    "\n",
    "for category in range(len(list_categories)):\n",
    "    all_reviews_1 = []\n",
    "    all_reviews_2 = []\n",
    "    for i in range(3):\n",
    "\n",
    "        if list_categories[category] == \"Meta-categories\":\n",
    "            column_id = i + 20\n",
    "        else: \n",
    "            column_id = i*8 + 3 + category\n",
    "        \n",
    "        list_review_1 = df_rating_1.loc[2:, column_id].values.tolist()\n",
    "        list_review_2 = df_rating_2.loc[2:, column_id].values.tolist()\n",
    "\n",
    "        all_reviews_1 = all_reviews_1 + list_review_1\n",
    "        all_reviews_2 = all_reviews_2 + list_review_2\n",
    "\n",
    "    if all_reviews_1 != all_reviews_2:\n",
    "        # all reviews \n",
    "        N = len(all_reviews_1)\n",
    "\n",
    "        kappa_btp, sd_btp, low_btp, high_btp = bootstrap_cqk(y_true=all_reviews_1, y_pred=all_reviews_2)\n",
    "        write_stat(df_final, list_categories[category], \"bootstrap\", kappa_btp, low_btp, high_btp, sd_btp, N)\n",
    "        \n",
    "        confusion_matrix = create_confusion_matrix(list_1=all_reviews_1, list_2=all_reviews_2)\n",
    "        po_ = observed_proportion(confusion_matrix)\n",
    "        pe_ = expected_proportion(confusion_matrix)\n",
    "        kappa_ = kappa(po_, pe_)\n",
    "        \n",
    "        sd_cohen_ = sd_cohen(po_, pe_)\n",
    "        write_stat(df_final, list_categories[category], \"cohen\", kappa_, -1.96 * sd_cohen_ + kappa_, 1.96 * sd_cohen_ + kappa_, sd_cohen_, N)\n",
    "\n",
    "        sd_fleiss_ = sd_fleiss(po_, pe_, confusion_matrix)\n",
    "        write_stat(df_final, list_categories[category], \"fleiss\", kappa_, -1.96 * sd_fleiss_ + kappa_, 1.96 * sd_fleiss_ + kappa_, sd_fleiss_, N)\n",
    "\n",
    "        print(f\"For '{list_categories[category]}' review :\")\n",
    "        print(f\"kappa bootstrap = {kappa_btp}\")\n",
    "        print(f\"ci bootstrap = [{low_btp}, {high_btp}]\")\n",
    "        print(f\"standard deviation bootstrap = {sd_btp}\")\n",
    "        print(f\"standard error = sd / sqrt(N) = {sd_btp/sqrt(N)}\")\n",
    "        print(\"**************************************************\")\n",
    "    else: \n",
    "        write_stat(df_final, list_categories[category], \"cohen\", 1,  1, 1, 1, N)\n",
    "        write_stat(df_final, list_categories[category], \"bootstrap\", 1, 1, 1, 1, N)\n",
    "        write_stat(df_final, list_categories[category], \"fleiss\", 1, 1,1,1, N)\n"
   ]
  },
  {
   "cell_type": "code",
   "execution_count": 324,
   "metadata": {},
   "outputs": [
    {
     "name": "stdout",
     "output_type": "stream",
     "text": [
      "For Agreement review :\n",
      "kappa bootstrap = 0.8105857068367698\n",
      "ci bootstrap = [0.6433393387028401, 0.9595873011082102]\n",
      "standard deviation bootstrap = 0.07834263164702614\n",
      "standard error = sd / sqrt(N) = 0.012387057694809552\n"
     ]
    }
   ],
   "source": [
    "\n",
    "# add agreement review\n",
    "\n",
    "list_agreement_1 = df_rating_1.loc[2:, 29].values.tolist()\n",
    "list_agreement_2 = df_rating_2.loc[2:, 29].values.tolist()\n",
    "N = len(list_agreement_1)\n",
    "\n",
    "kappa_btp, sd_btp, low_btp, high_btp = bootstrap_cqk(y_true=list_agreement_1, y_pred=list_agreement_2)\n",
    "write_stat(df_final, \"Agreement\", \"bootstrap\", kappa_btp, low_btp, high_btp, sd_btp, N)\n",
    "\n",
    "confusion_matrix = create_confusion_matrix(list_1=list_agreement_1, list_2=list_agreement_2)\n",
    "po_ = observed_proportion(confusion_matrix)\n",
    "pe_ = expected_proportion(confusion_matrix)\n",
    "kappa_ = kappa(po_, pe_)\n",
    "\n",
    "sd_cohen_ = sd_cohen(po_, pe_)\n",
    "write_stat(df_final, \"Agreement\", \"cohen\", kappa_, -1.96 * sd_cohen_ + kappa_, 1.96 * sd_cohen_ + kappa_, sd_cohen_, N)\n",
    "\n",
    "sd_fleiss_ = sd_fleiss(po_, pe_, confusion_matrix)\n",
    "write_stat(df_final, \"Agreement\", \"fleiss\", kappa_, -1.96 * sd_fleiss_ + kappa_, 1.96 * sd_fleiss_ + kappa_, sd_fleiss_, N)\n",
    "\n",
    "print(f\"For Agreement review :\")\n",
    "print(f\"kappa bootstrap = {kappa_btp}\")\n",
    "print(f\"ci bootstrap = [{low_btp}, {high_btp}]\")\n",
    "print(f\"standard deviation bootstrap = {sd_btp}\")\n",
    "print(f\"standard error = sd / sqrt(N) = {sd_btp/sqrt(N)}\")"
   ]
  },
  {
   "cell_type": "code",
   "execution_count": 323,
   "metadata": {},
   "outputs": [],
   "source": [
    "\n",
    "df_final.to_csv(\"../rating/rating_analysis.csv\", index = True, sep=\";\", encoding='utf-8')\n"
   ]
  },
  {
   "cell_type": "code",
   "execution_count": null,
   "metadata": {},
   "outputs": [],
   "source": []
  }
 ],
 "metadata": {
  "kernelspec": {
   "display_name": "reproducibility-reviews",
   "language": "python",
   "name": "python3"
  },
  "language_info": {
   "codemirror_mode": {
    "name": "ipython",
    "version": 3
   },
   "file_extension": ".py",
   "mimetype": "text/x-python",
   "name": "python",
   "nbconvert_exporter": "python",
   "pygments_lexer": "ipython3",
   "version": "3.10.13"
  }
 },
 "nbformat": 4,
 "nbformat_minor": 2
}
