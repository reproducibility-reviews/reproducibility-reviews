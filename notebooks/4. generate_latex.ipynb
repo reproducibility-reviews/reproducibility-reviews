{
 "cells": [
  {
   "cell_type": "code",
   "execution_count": 38,
   "metadata": {},
   "outputs": [],
   "source": [
    "import pandas as pd\n",
    "from tabulate import tabulate\n",
    "from pathlib import Path\n",
    "import json"
   ]
  },
  {
   "cell_type": "code",
   "execution_count": 39,
   "metadata": {},
   "outputs": [],
   "source": [
    "# Set the default year to 2023\n",
    "year_ = \"2023\"\n",
    "\n",
    "output_directory = Path(f\"../miccai{year_}\")"
   ]
  },
  {
   "cell_type": "markdown",
   "metadata": {},
   "source": [
    "### Inter-rater reliability"
   ]
  },
  {
   "cell_type": "code",
   "execution_count": 40,
   "metadata": {},
   "outputs": [
    {
     "name": "stdout",
     "output_type": "stream",
     "text": [
      "+----+----------------------------------------+---------------+----------+-----------+-----------+------------+------------+\n",
      "|    | Unnamed: 0                             |   kappa score |   ci low |   ci high |        se |    sklearn |     fleiss |\n",
      "|----+----------------------------------------+---------------+----------+-----------+-----------+------------+------------|\n",
      "|  0 | Models and algorithms                  |      0.753788 | 0.663732 |  0.838016 | 0.0446874 |   0.754408 |   0.753788 |\n",
      "|  1 | Datasets                               |      0.908586 | 0.850797 |  0.955752 | 0.0272337 |   0.908587 |   0.908586 |\n",
      "|  2 | Code                                   |      0.910714 | 0.858275 |  0.955262 | 0.024911  |   0.910714 |   0.910714 |\n",
      "|  3 | Experimental results                   |      0.863725 | 0.793471 |  0.927219 | 0.0342988 |   0.863725 |   0.863725 |\n",
      "|  4 | Error bars or statistical significance |      1        | 1        |  1        | 0         |   1        |   1        |\n",
      "|  5 | Code is or will be available           |      0.885494 | 0.814004 |  0.948484 | 0.0343174 |   0.885496 |   0.885494 |\n",
      "|  6 | Statement                              |      0.736822 | 0.668759 |  0.799977 | 0.0347026 |   0.736982 |   0.736822 |\n",
      "|  7 | Comments                               |      0.815579 | 0.758657 |  0.868116 | 0.0273508 |   0.815594 |   0.815579 |\n",
      "|  8 | Meta-categories                        |      0.801403 | 0.728238 |  0.864578 | 0.0352222 | nan        | nan        |\n",
      "|  9 | Repo provided                          |      1        | 1        |  1        | 0         | nan        | nan        |\n",
      "+----+----------------------------------------+---------------+----------+-----------+-----------+------------+------------+\n",
      "Wrote tex file ../miccai2023/latex/table_inter_rater.tex\n"
     ]
    }
   ],
   "source": [
    "df_inter = pd.read_csv(output_directory / f\"stats_inter_rater/inter_rater_stats.csv\", sep= \"\\t\")\n",
    "print(tabulate(df_inter, headers='keys', tablefmt='psql'))\n",
    "\n",
    "latex_directory = output_directory / \"latex\"\n",
    "if not latex_directory.is_dir():\n",
    "    latex_directory.mkdir()\n",
    "\n",
    "with open(latex_directory / \"table_inter_rater.tex\", 'w') as f_:\n",
    "    print(\"\\\\begin{tabular}{lll}\", file=f_)\n",
    "    print(\"\\\\hline\", file=f_)\n",
    "    print(f\"& $\\kappa$ & 95\\% CI\\\\\\\\\", file=f_)\n",
    "    print(\"\\\\hline\", file=f_)\n",
    "    c_=df_inter.iloc[0].to_numpy()\n",
    "    print(f\"Models and algorithms & {c_[1]:.2f} & [{c_[2]:.2f}, {c_[3]:.2f}]  \\\\\\\\\", file=f_)\n",
    "    c_=df_inter.iloc[1].to_numpy()\n",
    "    print(f\"Datasets & {c_[1]:.2f} & [{c_[2]:.2f}, {c_[3]:.2f}]  \\\\\\\\\", file=f_)\n",
    "    c_=df_inter.iloc[2].to_numpy()\n",
    "    print(f\"Code & {c_[1]:.2f} & [{c_[2]:.2f}, {c_[3]:.2f}]  \\\\\\\\\", file=f_)\n",
    "    c_=df_inter.iloc[3].to_numpy()\n",
    "    print(f\"Experimental results & {c_[1]:.2f} & [{c_[2]:.2f}, {c_[3]:.2f}]  \\\\\\\\\", file=f_)\n",
    "    c_=df_inter.iloc[4].to_numpy()\n",
    "    print(f\"Error bars/stat. sign.& {c_[1]:.2f} & [{c_[2]:.2f}, {c_[3]:.2f}]  \\\\\\\\\", file=f_)\n",
    "    c_=df_inter.iloc[6].to_numpy()\n",
    "    print(f\"Statement & {c_[1]:.2f} & [{c_[2]:.2f}, {c_[3]:.2f}]  \\\\\\\\\", file=f_)\n",
    "    c_=df_inter.iloc[7].to_numpy()\n",
    "    print(f\"Comments & {c_[1]:.2f}  & [{c_[2]:.2f}, {c_[3]:.2f}]  \\\\\\\\\", file=f_)\n",
    "    c_=df_inter.iloc[8].to_numpy()\n",
    "    print(f\"Meta-category & {c_[1]:.2f}  & [{c_[2]:.2f}, {c_[3]:.2f}]  \\\\\\\\\", file=f_)\n",
    "    c_=df_inter.iloc[5].to_numpy()\n",
    "    print(f\"Code is or will be available & {c_[1]:.2f} & [{c_[2]:.2f}, {c_[3]:.2f}]  \\\\\\\\\", file=f_)\n",
    "    c_=df_inter.iloc[9].to_numpy()\n",
    "    print(f\"Code repository provided and not empty & {c_[1]:.2f} & [{c_[2]:.2f}, {c_[3]:.2f}]  \\\\\\\\\", file=f_)\n",
    "    print(\"\\\\hline\", file=f_)\n",
    "    print(\"\\\\end{tabular}\", file=f_)\n",
    "\n",
    "print(f\"Wrote tex file {latex_directory / 'table_inter_rater.tex'}\")"
   ]
  },
  {
   "cell_type": "markdown",
   "metadata": {},
   "source": [
    "### Stats-rating category"
   ]
  },
  {
   "cell_type": "code",
   "execution_count": 41,
   "metadata": {},
   "outputs": [
    {
     "name": "stdout",
     "output_type": "stream",
     "text": [
      "Number of Papers: 90\n",
      "Number of Reviews: 270\n",
      "+----+----------------------------------------+----------+-----------+----------+-----------+\n",
      "|    | For 270 reviews                        |   number |   percent |   ci low |   ci high |\n",
      "|----+----------------------------------------+----------+-----------+----------+-----------|\n",
      "|  0 | Models and algorithms                  |       78 |     28.89 | 23.7037  |   34.8148 |\n",
      "|  1 | Datasets                               |       90 |     33.33 | 27.7778  |   38.8889 |\n",
      "|  2 | Code                                   |      126 |     46.67 | 40.7407  |   52.5926 |\n",
      "|  3 | Experimental results                   |       69 |     25.56 | 20.3704  |   30.3796 |\n",
      "|  4 | Error bars or statistical significance |        5 |      1.85 |  0.37037 |    3.7037 |\n",
      "|  5 | Code is or will be available           |       63 |     23.33 | 18.5185  |   28.5185 |\n",
      "+----+----------------------------------------+----------+-----------+----------+-----------+\n",
      "Wrote tex file ../miccai2023/latex/table_checklist_categories.tex\n"
     ]
    }
   ],
   "source": [
    "with open(output_directory / \"stats_rating\" / \"data.json\", 'r') as file:\n",
    "    data_json = json.load(file)\n",
    "\n",
    "nb_reviews = data_json['nb_reviews']\n",
    "print(f\"Number of Papers: {data_json['nb_papers']}\")\n",
    "print(f\"Number of Reviews: {nb_reviews}\")\n",
    "\n",
    "df_inter = pd.read_csv(output_directory / \"stats_rating\" / \"1-category.csv\", sep= \";\")\n",
    "print(tabulate(df_inter, headers='keys', tablefmt='psql'))\n",
    "\n",
    "latex_directory = output_directory / \"latex\"\n",
    "if not latex_directory.is_dir():\n",
    "    latex_directory.mkdir()\n",
    "\n",
    "with open(latex_directory / \"table_checklist_categories.tex\", 'w') as f_:\n",
    "    print(\"\\\\begin{tabular}{llll}\", file=f_)\n",
    "    print(\"\\\\hline\", file=f_)\n",
    "    print(f\"Category/item & \\% & 95\\% CI  & N \\\\\\\\\", file=f_)\n",
    "    print(\"\\\\hline\", file=f_)\n",
    "    c_=df_inter.iloc[0].to_numpy()\n",
    "    print(f\"Models and algorithms & {c_[2]:.0f}\\% & [{c_[3]:.0f}\\%, {c_[4]:.0f}\\%] & {c_[1]:.0f}/{nb_reviews}\\\\\\\\\", file=f_)\n",
    "    c_=df_inter.iloc[1].to_numpy()\n",
    "    print(f\"Datasets & {c_[2]:.0f}\\% & [{c_[3]:.0f}\\%, {c_[4]:.0f}\\%] & {c_[1]:.0f}/{nb_reviews}\\\\\\\\\", file=f_)\n",
    "    c_=df_inter.iloc[2].to_numpy()\n",
    "    print(f\"Code & {c_[2]:.0f}\\% & [{c_[3]:.0f}\\%, {c_[4]:.0f}\\%] & {c_[1]:.0f}/{nb_reviews}\\\\\\\\\", file=f_)\n",
    "    c_=df_inter.iloc[3].to_numpy()\n",
    "    print(f\"Experimental results & {c_[2]:.0f}\\% & [{c_[3]:.0f}\\%, {c_[4]:.0f}\\%] & {c_[1]:.0f}/{nb_reviews}\\\\\\\\\", file=f_)\n",
    "    c_=df_inter.iloc[4].to_numpy()\n",
    "    print(f\"Error bars/stat. sign.& {c_[2]:.0f}\\% & [{c_[3]:.0f}\\%, {c_[4]:.0f}\\%] & {c_[1]:.0f}/{nb_reviews}\\\\\\\\\", file=f_)\n",
    "    print(\"\\\\hline\", file=f_)\n",
    "    print(\"\\\\end{tabular}\", file=f_)\n",
    "\n",
    "print(f\"Wrote tex file {latex_directory / 'table_checklist_categories.tex'}\")"
   ]
  },
  {
   "cell_type": "markdown",
   "metadata": {},
   "source": [
    "### Agreement between reviewers (Fleiss' kappa)"
   ]
  },
  {
   "cell_type": "code",
   "execution_count": 42,
   "metadata": {},
   "outputs": [
    {
     "name": "stdout",
     "output_type": "stream",
     "text": [
      "+----+-----------------+---------+----------+-----------+\n",
      "|    | kappa fleiss    |   kappa |   ci low |   ci high |\n",
      "|----+-----------------+---------+----------+-----------|\n",
      "|  0 | Statements      |   -0.05 |    -0.14 |      0.04 |\n",
      "|  1 | Comments        |    0.05 |    -0.03 |      0.12 |\n",
      "|  2 | Meta-categories |    0.02 |    -0.08 |      0.13 |\n",
      "+----+-----------------+---------+----------+-----------+\n",
      "Wrote tex file ../miccai2023/latex/table_agreement_reviewers.tex\n"
     ]
    }
   ],
   "source": [
    "df_inter = pd.read_csv(output_directory / \"stats_rating\" / \"6-kappas.csv\", sep= \";\")\n",
    "print(tabulate(df_inter, headers='keys', tablefmt='psql'))\n",
    "\n",
    "latex_directory = output_directory / \"latex\"\n",
    "if not latex_directory.is_dir():\n",
    "    latex_directory.mkdir()\n",
    "\n",
    "with open(latex_directory / 'table_agreement_reviewers.tex', 'w') as f_:\n",
    "    print(\"\\\\begin{tabular}{lll}\", file=f_)\n",
    "    print(\"\\\\hline\", file=f_)\n",
    "    print(f\" & $\\kappa$ & 95\\% CI  \\\\\\\\\", file=f_)\n",
    "    print(\"\\\\hline\", file=f_)\n",
    "    c_ = df_inter.iloc[0].to_numpy()\n",
    "    print(f\"Statement & {c_[1]:.2f} & [{c_[2]:.2f}, {c_[3]:.2f}] \\\\\\\\\", file=f_)\n",
    "    c_ = df_inter.iloc[2].to_numpy()\n",
    "    print(f\"Meta-categories & {c_[1]:.2f} & [{c_[2]:.2f}, {c_[3]:.2f}] \\\\\\\\\", file=f_)\n",
    "    print(\"\\\\hline\", file=f_)\n",
    "    print(\"\\\\end{tabular}\", file=f_)\n",
    "\n",
    "print(f\"Wrote tex file {latex_directory / 'table_agreement_reviewers.tex'}\")"
   ]
  },
  {
   "cell_type": "markdown",
   "metadata": {},
   "source": [
    "### Code availability"
   ]
  },
  {
   "cell_type": "code",
   "execution_count": 43,
   "metadata": {},
   "outputs": [
    {
     "name": "stdout",
     "output_type": "stream",
     "text": [
      "+----+----------------------------------+-----------+-----------------+---------+\n",
      "|    | code availableness (in number)   |   no info |   code promised |   total |\n",
      "|----+----------------------------------+-----------+-----------------+---------|\n",
      "|  1 | bad link                         |         2 |              16 |      18 |\n",
      "|  2 | good link                        |         6 |              37 |      43 |\n",
      "|  3 | no link                          |         4 |              25 |      29 |\n",
      "|  4 | total                            |        12 |              78 |      90 |\n",
      "+----+----------------------------------+-----------+-----------------+---------+\n",
      "+----+-----------------------------+-----------+-----------------+----------+\n",
      "|    | code availableness (in %)   |   no info |   code promised |    total |\n",
      "|----+-----------------------------+-----------+-----------------+----------|\n",
      "|  1 | bad link                    |   2.22222 |         17.7778 |  20      |\n",
      "|  2 | good link                   |   6.66667 |         41.1111 |  47.7778 |\n",
      "|  3 | no link                     |   4.44444 |         27.7778 |  32.2222 |\n",
      "|  4 | total                       |  13.3333  |         86.6667 | 100      |\n",
      "+----+-----------------------------+-----------+-----------------+----------+\n",
      "Wrote tex file ../miccai2023/latex/table_code_availability.tex\n"
     ]
    }
   ],
   "source": [
    "df_here = pd.read_csv(\n",
    "    output_directory / \"stats_rating\" / \"7-code_number.csv\",\n",
    "    sep= \";\",\n",
    "    header = None,\n",
    "    index_col = 0,\n",
    ").transpose()\n",
    "print(tabulate(df_here, headers='keys', tablefmt='psql', showindex= True))\n",
    "\n",
    "df_here2 = pd.read_csv(\n",
    "    output_directory / \"stats_rating\" / \"8-code_percent.csv\",\n",
    "    sep= \";\",\n",
    "    header = None,\n",
    "    index_col = 0,\n",
    ").transpose()\n",
    "print(tabulate(df_here2, headers='keys', tablefmt='psql'))\n",
    "\n",
    "latex_directory = output_directory / \"latex\"\n",
    "if not latex_directory.is_dir():\n",
    "    latex_directory.mkdir()\n",
    "\n",
    "with open(latex_directory / 'table_code_availability.tex', 'w') as f_:\n",
    "    print(\"\\\\begin{tabular}{|l|l|l|l|}\", file=f_)\n",
    "    print(\"\\\\hline\", file=f_)\n",
    "    print(f\"Code promised & && \\\\\\\\\", file=f_)\n",
    "    print(\"(according to reviewers) $\\\\rightarrow$ & No info & Yes  &Total\\\\\\\\\", file=f_)\n",
    "    print(\"&&&\\\\\\\\\", file=f_)\n",
    "    print(\"Code available & && \\\\\\\\(after acceptance) $\\downarrow$ & && \\\\\\\\\", file=f_)\n",
    "    print(\"\\\\hline\", file=f_)\n",
    "    c_=df_here.iloc[1].to_numpy()\n",
    "    c2_=df_here2.iloc[1].to_numpy()\n",
    "    print(f\" No repo & {float(c_[1]):.0f} ({float(c2_[1]):.0f}\\%)& {float(c_[2]):.0f} ({float(c2_[2]):.0f}\\%)& {float(c_[3]):.0f} ({float(c2_[3]):.0f}\\%)\\\\\\\\\", file=f_)\n",
    "    c_=df_here.iloc[0].to_numpy()\n",
    "    c2_=df_here2.iloc[0].to_numpy()\n",
    "    print(f\" Invalid repo & {float(c_[1]):.0f} ({float(c2_[1]):.0f}\\%)& {float(c_[2]):.0f} ({float(c2_[2]):.0f}\\%)& {float(c_[3]):.0f} ({float(c2_[3]):.0f}\\%)\\\\\\\\\", file=f_)\n",
    "    c_=df_here.iloc[2].to_numpy()\n",
    "    c2_=df_here2.iloc[2].to_numpy()\n",
    "    print(f\" Valid repo & {float(c_[1]):.0f} ({float(c2_[1]):.0f}\\%)& {float(c_[2]):.0f} ({float(c2_[2]):.0f}\\%)& {float(c_[3]):.0f} ({float(c2_[3]):.0f}\\%)\\\\\\\\\", file=f_)\n",
    "\n",
    "    c_=df_here.iloc[3].to_numpy()\n",
    "    c2_=df_here2.iloc[3].to_numpy()\n",
    "    print(f\" Total & {float(c_[1]):.0f} ({float(c2_[1]):.0f}\\%)& {float(c_[2]):.0f} ({float(c2_[2]):.0f}\\%)& {float(c_[3]):.0f} ({float(c2_[3]):.0f}\\%)\\\\\\\\\", file=f_)\n",
    "    print(\"\\\\hline\", file=f_)\n",
    "    print(\"\\\\end{tabular}\", file=f_)\n",
    "\n",
    "print(f\"Wrote tex file {latex_directory / 'table_code_availability.tex'}\")"
   ]
  },
  {
   "cell_type": "markdown",
   "metadata": {},
   "source": [
    "### Word counts"
   ]
  },
  {
   "cell_type": "code",
   "execution_count": 44,
   "metadata": {},
   "outputs": [
    {
     "name": "stdout",
     "output_type": "stream",
     "text": [
      "+----+-----------------+----------+-------+-------+----------+----------+-------+----------------+----------------+----------------+----------------+----------------+----------------+----------------+----------------+----------------+\n",
      "|    | category        |     mean |   max |   min |   median |      std |   iqr |   10th centile |   20th centile |   30th centile |   40th centile |   50th centile |   60th centile |   70th centile |   80th centile |   90th centile |\n",
      "|----+-----------------+----------+-------+-------+----------+----------+-------+----------------+----------------+----------------+----------------+----------------+----------------+----------------+----------------+----------------|\n",
      "|  0 | contribution    |  60.8995 |   167 |     0 |       56 |  30.5604 |  42   |           26   |             34 |             42 |             49 |             56 |             63 |           74   |           85   |          105   |\n",
      "|  1 | strengths       |  60.1534 |   433 |     0 |       49 |  45.9638 |  46   |           19   |             27 |             34 |             40 |             49 |             57 |           68   |           84   |          113.1 |\n",
      "|  2 | weakness        |  97.2237 |   494 |     0 |       72 |  83.8371 |  97   |           19.9 |             31 |             43 |             56 |             72 |             90 |          117   |          153.2 |          211   |\n",
      "|  3 | reproducibility |  22.5785 |   429 |     0 |       16 |  26.2972 |  18   |            3   |              7 |             10 |             13 |             16 |             20 |           24   |           31   |           44   |\n",
      "|  4 | detailed        | 109.973  |  1240 |     0 |       70 | 124.537  | 115   |            9   |             23 |             37 |             51 |             70 |             96 |          124   |          169.2 |          254.2 |\n",
      "|  5 | justification   |  34.8849 |   166 |     0 |       28 |  26.9551 |  30   |            8   |             13 |             18 |             23 |             28 |             34 |           42   |           52   |           69   |\n",
      "|  6 | total           | 385.713  |  2219 |     0 |      336 | 210.884  | 233.5 |          178   |            223 |            263 |            301 |            336 |            386 |          441.3 |          521.2 |          642.1 |\n",
      "+----+-----------------+----------+-------+-------+----------+----------+-------+----------------+----------------+----------------+----------------+----------------+----------------+----------------+----------------+----------------+\n",
      "Wrote tex file ../miccai2023/latex/table_S_nbwords.tex\n"
     ]
    }
   ],
   "source": [
    "df_stats_word_counts = pd.read_csv(output_directory / \"stats\" / \"stats_word_counts.csv\", sep= \"\\t\")\n",
    "print(tabulate(df_stats_word_counts, headers='keys', tablefmt='psql'))\n",
    "\n",
    "latex_directory = output_directory / \"latex\"\n",
    "if not latex_directory.is_dir():\n",
    "    latex_directory.mkdir()\n",
    "\n",
    "with open(latex_directory / 'table_S_nbwords.tex', 'w') as f_:\n",
    "    print(\"\\\\begin{tabular}{lllllll}\", file=f_)\n",
    "    print(\"\\\\hline\", file=f_)\n",
    "    print(f\"Category & Mean & Min & Max & Median & $\\sigma$ & IQR \\\\\\\\ \", file=f_)\n",
    "    print(\"\\\\hline\", file=f_)\n",
    "    c_=df_stats_word_counts.iloc[0].to_numpy()\n",
    "    print(f\"Contribution & {c_[1]:.2f} & {c_[3]:.0f} & {c_[2]:.0f} & {c_[4]:.0f} & {c_[5]:.2f} & {c_[6]:.0f} \\\\\\\\\", file=f_)\n",
    "    c_=df_stats_word_counts.iloc[1].to_numpy()\n",
    "    print(f\"Strengths & {c_[1]:.2f} & {c_[3]:.0f} & {c_[2]:.0f} & {c_[4]:.0f} & {c_[5]:.2f} & {c_[6]:.0f} \\\\\\\\\", file=f_)\n",
    "    c_=df_stats_word_counts.iloc[2].to_numpy()\n",
    "    print(f\"Weaknesses & {c_[1]:.2f} & {c_[3]:.0f} & {c_[2]:.0f} & {c_[4]:.0f} & {c_[5]:.2f} & {c_[6]:.0f} \\\\\\\\\", file=f_)\n",
    "    c_=df_stats_word_counts.iloc[3].to_numpy()\n",
    "    print(f\"Reproducibility & {c_[1]:.2f} & {c_[3]:.0f} & {c_[2]:.0f} & {c_[4]:.0f} & {c_[5]:.2f} & {c_[6]:.0f} \\\\\\\\\", file=f_)\n",
    "    c_=df_stats_word_counts.iloc[4].to_numpy()\n",
    "    print(f\"Detailed comments & {c_[1]:.2f} & {c_[3]:.0f} & {c_[2]:.0f} & {c_[4]:.0f} & {c_[5]:.2f} & {c_[6]:.0f} \\\\\\\\\", file=f_)\n",
    "    c_=df_stats_word_counts.iloc[5].to_numpy()\n",
    "    print(f\"Justification & {c_[1]:.2f} & {c_[3]:.0f} & {c_[2]:.0f} & {c_[4]:.0f} & {c_[5]:.2f} & {c_[6]:.0f} \\\\\\\\\", file=f_)\n",
    "    print(\"\\\\hline\", file=f_)\n",
    "    c_=df_stats_word_counts.iloc[6].to_numpy()\n",
    "    print(f\"Total & {c_[1]:.2f} & {c_[3]:.0f} & {c_[2]:.0f} & {c_[4]:.0f} & {c_[5]:.2f} & {c_[6]:.0f} \\\\\\\\\", file=f_)\n",
    "    print(\"\\\\hline\", file=f_)\n",
    "    print(\"\\\\end{tabular}\", file=f_)\n",
    "\n",
    "print(f\"Wrote tex file {latex_directory / 'table_S_nbwords.tex'}\")"
   ]
  },
  {
   "cell_type": "markdown",
   "metadata": {},
   "source": [
    "### Suppl: statement"
   ]
  },
  {
   "cell_type": "code",
   "execution_count": 45,
   "metadata": {},
   "outputs": [
    {
     "name": "stdout",
     "output_type": "stream",
     "text": [
      "Number of Papers: 90\n",
      "Number of Reviews: 270\n",
      "+----+-------------------------+----------+-----------+----------+-----------+\n",
      "|    | For 270 reviews         |   number |   percent |   ci low |   ci high |\n",
      "|----+-------------------------+----------+-----------+----------+-----------|\n",
      "|  0 | 3. (+) statement        |      132 |     48.89 |    42.96 |     54.81 |\n",
      "|  1 | 2. (-) statement        |       32 |     11.85 |     8.15 |     15.93 |\n",
      "|  2 | 1. (none) statement     |      100 |     37.04 |    31.11 |     42.97 |\n",
      "|  3 | 0. Unusable (statement) |        6 |      2.22 |     0.74 |      4.07 |\n",
      "+----+-------------------------+----------+-----------+----------+-----------+\n",
      "Wrote tex file ../miccai2023/latex/table_S_statement.tex\n"
     ]
    }
   ],
   "source": [
    "with open(output_directory / \"stats_rating\" / \"data.json\", 'r') as file:\n",
    "    data_json = json.load(file)\n",
    "\n",
    "nb_reviews = data_json['nb_reviews']\n",
    "print(f\"Number of Papers: {data_json['nb_papers']}\")\n",
    "print(f\"Number of Reviews: {nb_reviews}\")\n",
    "\n",
    "df_inter = pd.read_csv(output_directory / \"stats_rating\" / \"2-statements.csv\", sep= \";\")\n",
    "print(tabulate(df_inter, headers='keys', tablefmt='psql'))\n",
    "\n",
    "latex_directory = output_directory / \"latex\"\n",
    "if not latex_directory.is_dir():\n",
    "    latex_directory.mkdir()\n",
    "\n",
    "with open(latex_directory / 'table_S_statement.tex', 'w') as f_:\n",
    "    print(\"\\\\begin{tabular}{llll}\", file=f_)\n",
    "    print(\"\\\\hline\", file=f_)\n",
    "    print(f\" & \\% & 95\\% CI  & N \\\\\\\\\", file=f_)\n",
    "    print(\"\\\\hline\", file=f_)\n",
    "    c_=df_inter.iloc[0].to_numpy()\n",
    "    print(f\"(+) & {c_[2]:.0f}\\% & [{c_[3]:.0f}\\%, {c_[4]:.0f}\\%] & {c_[1]:.0f}/{nb_reviews}\\\\\\\\\", file=f_)\n",
    "    c_=df_inter.iloc[1].to_numpy()\n",
    "    print(f\"($-$) & {c_[2]:.0f}\\% & [{c_[3]:.0f}\\%, {c_[4]:.0f}\\%] & {c_[1]:.0f}/{nb_reviews}\\\\\\\\\", file=f_)\n",
    "    c_=df_inter.iloc[2].to_numpy()\n",
    "    print(f\"(none) & {c_[2]:.0f}\\% & [{c_[3]:.0f}\\%, {c_[4]:.0f}\\%] & {c_[1]:.0f}/{nb_reviews}\\\\\\\\\", file=f_)\n",
    "    c_=df_inter.iloc[3].to_numpy()\n",
    "    print(f\"(unusable) & {c_[2]:.0f}\\% & [{c_[3]:.0f}\\%, {c_[4]:.0f}\\%] & {c_[1]:.0f}/{nb_reviews}\\\\\\\\\", file=f_)\n",
    "    print(\"\\\\hline\", file=f_)\n",
    "    print(\"\\\\end{tabular}\", file=f_)\n",
    "\n",
    "print(f\"Wrote tex file {latex_directory / 'table_S_statement.tex'}\")"
   ]
  },
  {
   "cell_type": "markdown",
   "metadata": {},
   "source": [
    "### Suppl: comments"
   ]
  },
  {
   "cell_type": "code",
   "execution_count": 46,
   "metadata": {},
   "outputs": [
    {
     "name": "stdout",
     "output_type": "stream",
     "text": [
      "Number of Papers: 90\n",
      "Number of Reviews: 270\n",
      "+----+------------------------+----------+-----------+----------+-----------+\n",
      "|    | For 270 reviews        |   number |   percent |   ci low |   ci high |\n",
      "|----+------------------------+----------+-----------+----------+-----------|\n",
      "|  0 | 4. (-/+) comments      |       62 |     22.96 |    18.15 |     28.16 |\n",
      "|  1 | 3. (+) comments        |       83 |     30.74 |    25.56 |     36.3  |\n",
      "|  2 | 2. (-) comments        |       50 |     18.52 |    13.7  |     23.7  |\n",
      "|  3 | 1. (none) comments     |       60 |     22.22 |    17.04 |     27.41 |\n",
      "|  4 | 0. Unusable (comments) |       15 |      5.56 |     2.96 |      8.52 |\n",
      "+----+------------------------+----------+-----------+----------+-----------+\n",
      "Wrote tex file ../miccai2023/latex/table_S_comments.tex\n"
     ]
    }
   ],
   "source": [
    "with open(output_directory / \"stats_rating\" / \"data.json\", 'r') as file:\n",
    "    data_json = json.load(file)\n",
    "\n",
    "nb_reviews = data_json['nb_reviews']\n",
    "print(f\"Number of Papers: {data_json['nb_papers']}\")\n",
    "print(f\"Number of Reviews: {nb_reviews}\")\n",
    "\n",
    "df_inter = pd.read_csv(output_directory / \"stats_rating\" / \"3-comments.csv\", sep= \";\")\n",
    "print(tabulate(df_inter, headers='keys', tablefmt='psql'))\n",
    "\n",
    "latex_directory = output_directory / \"latex\"\n",
    "if not latex_directory.is_dir():\n",
    "    latex_directory.mkdir()\n",
    "\n",
    "with open(latex_directory / 'table_S_comments.tex', 'w') as f_:\n",
    "    print(\"\\\\begin{tabular}{llll}\", file=f_)\n",
    "    print(\"\\\\hline\", file=f_)\n",
    "    print(f\"& \\% & 95\\% CI  & N \\\\\\\\\", file=f_)\n",
    "    print(\"\\\\hline\", file=f_)\n",
    "    c_=df_inter.iloc[1].to_numpy()\n",
    "    print(f\"(+) & {c_[2]:.0f}\\% & [{c_[3]:.0f}\\%, {c_[4]:.0f}\\%] & {c_[1]:.0f}/{nb_reviews}\\\\\\\\\", file=f_)\n",
    "    c_=df_inter.iloc[2].to_numpy()\n",
    "    print(f\"($-$) & {c_[2]:.0f}\\% & [{c_[3]:.0f}\\%, {c_[4]:.0f}\\%] & {c_[1]:.0f}/{nb_reviews}\\\\\\\\\", file=f_)\n",
    "    c_=df_inter.iloc[0].to_numpy()\n",
    "    print(f\"($-/+$) & {c_[2]:.0f}\\% & [{c_[3]:.0f}\\%, {c_[4]:.0f}\\%] & {c_[1]:.0f}/{nb_reviews}\\\\\\\\\", file=f_)\n",
    "    c_=df_inter.iloc[3].to_numpy()\n",
    "    print(f\"(none) & {c_[2]:.0f}\\% & [{c_[3]:.0f}\\%, {c_[4]:.0f}\\%] & {c_[1]:.0f}/{nb_reviews}\\\\\\\\\", file=f_)\n",
    "    c_=df_inter.iloc[4].to_numpy()\n",
    "    print(f\"(unusable) & {c_[2]:.0f}\\% & [{c_[3]:.0f}\\%, {c_[4]:.0f}\\%] & {c_[1]:.0f}/{nb_reviews}\\\\\\\\\", file=f_)\n",
    "    print(\"\\\\hline\", file=f_)\n",
    "    print(\"\\\\end{tabular}\", file=f_)\n",
    "\n",
    "print(f\"Wrote tex file {latex_directory / 'table_S_comments.tex'}\")"
   ]
  },
  {
   "cell_type": "markdown",
   "metadata": {},
   "source": [
    "### Suppl: meta-category"
   ]
  },
  {
   "cell_type": "code",
   "execution_count": 47,
   "metadata": {},
   "outputs": [
    {
     "name": "stdout",
     "output_type": "stream",
     "text": [
      "Number of Papers: 90\n",
      "Number of Reviews: 270\n",
      "+----+-------------------+----------+-----------+----------+-----------+\n",
      "|    | For 270 reviews   |   number |   percent |   ci low |   ci high |\n",
      "|----+-------------------+----------+-----------+----------+-----------|\n",
      "|  0 | (+) meta          |      163 |     60.37 |    54.25 |     66.3  |\n",
      "|  1 | (-) meta          |       87 |     32.22 |    27.04 |     38.15 |\n",
      "|  2 | Unusable (meta)   |       20 |      7.41 |     4.44 |     10.74 |\n",
      "+----+-------------------+----------+-----------+----------+-----------+\n",
      "Wrote tex file ../miccai2023/latex/table_S_meta.tex\n"
     ]
    }
   ],
   "source": [
    "with open(output_directory / \"stats_rating\" / \"data.json\", 'r') as file:\n",
    "    data_json = json.load(file)\n",
    "\n",
    "nb_reviews = data_json['nb_reviews']\n",
    "print(f\"Number of Papers: {data_json['nb_papers']}\")\n",
    "print(f\"Number of Reviews: {nb_reviews}\")\n",
    "\n",
    "df_inter = pd.read_csv(output_directory / \"stats_rating\" / \"5-meta.csv\", sep= \";\")\n",
    "print(tabulate(df_inter, headers='keys', tablefmt='psql'))\n",
    "\n",
    "latex_directory = output_directory / \"latex\"\n",
    "if not latex_directory.is_dir():\n",
    "    latex_directory.mkdir()\n",
    "\n",
    "with open(latex_directory / 'table_S_meta.tex', 'w') as f_:\n",
    "    print(\"\\\\begin{tabular}{llll}\", file=f_)\n",
    "    print(\"\\\\hline\", file=f_)\n",
    "    print(f\"& \\% & 95\\% CI  & N \\\\\\\\\", file=f_)\n",
    "    print(\"\\\\hline\", file=f_)\n",
    "    c_=df_inter.iloc[0].to_numpy()\n",
    "    print(f\"(+) & {c_[2]:.0f}\\% & [{c_[3]:.0f}\\%, {c_[4]:.0f}\\%] & {c_[1]:.0f}/{nb_reviews}\\\\\\\\\", file=f_)\n",
    "    c_=df_inter.iloc[1].to_numpy()\n",
    "    print(f\"($-$) & {c_[2]:.0f}\\% & [{c_[3]:.0f}\\%, {c_[4]:.0f}\\%] & {c_[1]:.0f}/{nb_reviews}\\\\\\\\\", file=f_)\n",
    "    c_=df_inter.iloc[2].to_numpy()\n",
    "    print(f\"(unusable) & {c_[2]:.0f}\\% & [{c_[3]:.0f}\\%, {c_[4]:.0f}\\%] & {c_[1]:.0f}/{nb_reviews}\\\\\\\\\", file=f_)\n",
    "    print(\"\\\\hline\", file=f_)\n",
    "    print(\"\\\\end{tabular}\", file=f_)\n",
    "\n",
    "print(f\"Wrote tex file {latex_directory / 'table_S_meta.tex'}\")"
   ]
  },
  {
   "cell_type": "markdown",
   "metadata": {},
   "source": [
    "### Suppl: statements VS comments"
   ]
  },
  {
   "cell_type": "code",
   "execution_count": 48,
   "metadata": {},
   "outputs": [
    {
     "name": "stdout",
     "output_type": "stream",
     "text": [
      "Number of Papers: 90\n",
      "Number of Reviews: 270\n",
      "+----+-------------------------+---------------------+-------------------+-------------------+----------------------+--------------------------+---------+\n",
      "|    | number                  |   4. (-/+) comments |   3. (+) comments |   2. (-) comments |   1. (none) comments |   0. Unusable (comments) |   total |\n",
      "|----+-------------------------+---------------------+-------------------+-------------------+----------------------+--------------------------+---------|\n",
      "|  0 | 3. (+) statement        |                  21 |                52 |                 7 |                   52 |                        0 |     132 |\n",
      "|  1 | 2. (-) statement        |                   8 |                 0 |                21 |                    3 |                        0 |      32 |\n",
      "|  2 | 1. (none) statement     |                  33 |                31 |                22 |                    5 |                        9 |     100 |\n",
      "|  3 | 0. Unusable (statement) |                   0 |                 0 |                 0 |                    0 |                        6 |       6 |\n",
      "|  4 | total                   |                  62 |                83 |                50 |                   60 |                       15 |     270 |\n",
      "+----+-------------------------+---------------------+-------------------+-------------------+----------------------+--------------------------+---------+\n",
      "Wrote tex file ../miccai2023/latex/table_S_statement_comments.tex\n"
     ]
    }
   ],
   "source": [
    "with open(output_directory / \"stats_rating\" / \"data.json\", 'r') as file:\n",
    "    data_json = json.load(file)\n",
    "\n",
    "nb_reviews = data_json['nb_reviews']\n",
    "print(f\"Number of Papers: {data_json['nb_papers']}\")\n",
    "print(f\"Number of Reviews: {nb_reviews}\")\n",
    "\n",
    "df_inter = pd.read_csv(output_directory / \"stats_rating\" / \"4-statements_comments.csv\", sep= \";\")\n",
    "print(tabulate(df_inter, headers='keys', tablefmt='psql'))\n",
    "\n",
    "latex_directory = output_directory / \"latex\"\n",
    "if not latex_directory.is_dir():\n",
    "    latex_directory.mkdir()\n",
    "\n",
    "with open(latex_directory / 'table_S_statement_comments.tex', 'w') as f_:\n",
    "    print(\"\\\\begin{tabular}{lllllll}\", file=f_)\n",
    "    print(\"\\\\hline\", file=f_)\n",
    "    print(f\"Comments $\\\\rightarrow$ & (+) & ($-$) & ($-/+$) & (none) &(unusable) & Total \\\\\\\\\", file=f_)\n",
    "    print(f\"Statement $\\\\downarrow$ & &&&&& \\\\\\\\\", file=f_)\n",
    "    print(\"\\\\hline\", file=f_)\n",
    "    c_=df_inter.iloc[0].to_numpy()\n",
    "    print(f\"(+) & {c_[2]:.0f} & {c_[3]:.0f} & {c_[1]:.0f} & {c_[4]:.0f} & {c_[5]:.0f}& {c_[6]:.0f}\\\\\\\\\", file=f_)\n",
    "    c_=df_inter.iloc[1].to_numpy()\n",
    "    print(f\"($-$) & {c_[2]:.0f} & {c_[3]:.0f} & {c_[1]:.0f} & {c_[4]:.0f} & {c_[5]:.0f}& {c_[6]:.0f}\\\\\\\\\", file=f_)\n",
    "    c_=df_inter.iloc[2].to_numpy()\n",
    "    print(f\"(none) & {c_[2]:.0f} & {c_[3]:.0f} & {c_[1]:.0f} & {c_[4]:.0f} & {c_[5]:.0f}& {c_[6]:.0f}\\\\\\\\\", file=f_)\n",
    "    c_=df_inter.iloc[3].to_numpy()\n",
    "    print(f\"(unusable) & {c_[2]:.0f} & {c_[3]:.0f} & {c_[1]:.0f} & {c_[4]:.0f} & {c_[5]:.0f}& {c_[6]:.0f}\\\\\\\\\", file=f_)\n",
    "    c_=df_inter.iloc[4].to_numpy()\n",
    "    print(f\"Total & {c_[2]:.0f} & {c_[3]:.0f} & {c_[1]:.0f} & {c_[4]:.0f} & {c_[5]:.0f}& {c_[6]:.0f}\\\\\\\\\", file=f_)\n",
    "    print(\"\\\\hline\", file=f_)\n",
    "    print(\"\\\\end{tabular}\", file=f_)\n",
    "\n",
    "print(f\"Wrote tex file {latex_directory / 'table_S_statement_comments.tex'}\")"
   ]
  },
  {
   "cell_type": "code",
   "execution_count": null,
   "metadata": {},
   "outputs": [],
   "source": []
  },
  {
   "cell_type": "code",
   "execution_count": null,
   "metadata": {},
   "outputs": [],
   "source": []
  },
  {
   "cell_type": "code",
   "execution_count": null,
   "metadata": {},
   "outputs": [],
   "source": []
  }
 ],
 "metadata": {
  "kernelspec": {
   "display_name": "Python 3 (ipykernel)",
   "language": "python",
   "name": "python3"
  },
  "language_info": {
   "codemirror_mode": {
    "name": "ipython",
    "version": 3
   },
   "file_extension": ".py",
   "mimetype": "text/x-python",
   "name": "python",
   "nbconvert_exporter": "python",
   "pygments_lexer": "ipython3",
   "version": "3.10.13"
  }
 },
 "nbformat": 4,
 "nbformat_minor": 4
}
