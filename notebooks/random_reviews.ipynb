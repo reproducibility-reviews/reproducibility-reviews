{
 "cells": [
  {
   "cell_type": "code",
   "execution_count": null,
   "metadata": {},
   "outputs": [],
   "source": []
  },
  {
   "cell_type": "code",
   "execution_count": null,
   "metadata": {},
   "outputs": [],
   "source": []
  },
  {
   "cell_type": "code",
   "execution_count": null,
   "metadata": {},
   "outputs": [],
   "source": [
    "    nb_reviews = \n",
    "    print(\"*\" * 100)\n",
    "    print(f\"{nb_reviews} random reviews between {lower_bound*10} and {upper_bound*10} percentiles\")\n",
    "    print(\"*\" * 100)\n",
    "    \n",
    "    lower_bound_40th = deciles[lower_bound]\n",
    "    upper_bound_60th = deciles[upper_bound]\n",
    "\n",
    "    selected_reviews = reviews[\n",
    "        ((data_frame['Review 1'] >= lower_bound_40th) & (data_frame['Review 1'] <= upper_bound_60th)) |\n",
    "        ((data_frame['Review 2'] >= lower_bound_40th) & (data_frame['Review 2'] <= upper_bound_60th)) |\n",
    "        ((data_frame['Review 3'] >= lower_bound_40th) & (data_frame['Review 3'] <= upper_bound_60th))\n",
    "    ]\n",
    "\n",
    "    selected_reviews_sample = selected_reviews.sample(nb_reviews)\n",
    "\n",
    "    for _, row in selected_reviews_sample.iterrows():\n",
    "        for col in [\"Review 1\", \"Review 2\", \"Review 3\"]:\n",
    "            x = df.at[_, col]\n",
    "            if ((x >= lower_bound_40th) & (x<= upper_bound_60th)):\n",
    "                #print(f\"{col}:\")\n",
    "                print(row[col])\n",
    "                print(f\"Word Count: {x}\")\n",
    "                print(\"-\" * 50)"
   ]
  },
  {
   "cell_type": "code",
   "execution_count": null,
   "metadata": {},
   "outputs": [],
   "source": []
  }
 ],
 "metadata": {
  "language_info": {
   "name": "python"
  }
 },
 "nbformat": 4,
 "nbformat_minor": 2
}
