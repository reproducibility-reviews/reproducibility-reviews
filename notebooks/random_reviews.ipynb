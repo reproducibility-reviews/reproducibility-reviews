{
 "cells": [
  {
   "cell_type": "code",
   "execution_count": 1,
   "metadata": {},
   "outputs": [],
   "source": [
    "import pandas as pd\n",
    "from tabulate import tabulate\n",
    "import os\n",
    "from pathlib import Path\n",
    "import matplotlib.pyplot as plt\n",
    "import scipy\n",
    "import math\n",
    "import numpy as np\n",
    "import statistics \n",
    "\n",
    "list_categories_str = [ \"contribution\", \"strengths\", \"weakness\", \"reproducibility\", \"detailed\", \"justification\" ]"
   ]
  },
  {
   "cell_type": "code",
   "execution_count": 4,
   "metadata": {},
   "outputs": [],
   "source": [
    "output_directory = \"../miccai2023/\"\n",
    "path_reviews= output_directory + \"reviews.csv\"\n",
    "df_reviews = pd.read_csv(path_reviews, sep= \"\\t\",  header=[0, 1], index_col=[0,1], skip_blank_lines=True)\n",
    "\n",
    "path_words_count = output_directory + \"count_words.csv\"\n",
    "df_words = pd.read_csv(path_words_count, sep= \"\\t\",  header=[0, 1], index_col=[0,1], skip_blank_lines=True)\n",
    "\n",
    "#print(df_reviews)\n",
    "#print(df_words)"
   ]
  },
  {
   "cell_type": "code",
   "execution_count": 3,
   "metadata": {},
   "outputs": [
    {
     "name": "stdout",
     "output_type": "stream",
     "text": [
      "Empty DataFrame\n",
      "Columns: [paper_id, nb_words, review, nb_review]\n",
      "Index: []\n",
      "[1.0, 1.0, 1.0, 1.0, 1.0, 2.0, 2.0, 3.0, 3.0, 3.1, 4.0, 4.0, 5.0, 5.0, 6.0, 6.0, 6.0, 7.0, 7.0, 7.0, 8.0, 8.0, 8.0, 8.84, 9.0, 9.0, 9.0, 10.0, 10.0, 10.0, 11.0, 11.0, 11.0, 11.0, 12.0, 12.0, 12.0, 12.0, 13.0, 13.0, 13.0, 14.0, 14.0, 14.0, 15.0, 15.0, 15.0, 15.0, 16.0, 16.0, 17.0, 17.0, 17.0, 18.0, 18.0, 18.0, 19.0, 19.0, 20.0, 20.0, 20.0, 21.0, 21.0, 22.0, 22.0, 22.0, 23.0, 23.0, 24.0, 25.0, 25.0, 26.0, 27.0, 27.0, 28.0, 28.0, 29.0, 30.0, 31.0, 32.0, 33.0, 34.0, 35.0, 36.0, 37.0, 38.0, 40.0, 41.0, 43.0, 45.0, 48.0, 50.72, 53.0, 59.0, 64.45, 71.0, 83.0, 108.72, 161.36]\n",
      "10 random reviews between 40 and 60 percentiles\n",
      "13.0\n",
      "20.0\n"
     ]
    },
    {
     "ename": "TypeError",
     "evalue": "cannot unpack non-iterable numpy.int64 object",
     "output_type": "error",
     "traceback": [
      "\u001b[0;31m---------------------------------------------------------------------------\u001b[0m",
      "\u001b[0;31mTypeError\u001b[0m                                 Traceback (most recent call last)",
      "Cell \u001b[0;32mIn[3], line 33\u001b[0m\n\u001b[1;32m     31\u001b[0m df_copy \u001b[38;5;241m=\u001b[39m df_\n\u001b[1;32m     32\u001b[0m \u001b[38;5;28;01mfor\u001b[39;00m \u001b[38;5;28mid\u001b[39m, id_df \u001b[38;5;129;01min\u001b[39;00m df_copy\u001b[38;5;241m.\u001b[39mgroupby(level\u001b[38;5;241m=\u001b[39m\u001b[38;5;241m0\u001b[39m):\n\u001b[0;32m---> 33\u001b[0m     \u001b[38;5;28;01mfor\u001b[39;00m _, title \u001b[38;5;129;01min\u001b[39;00m id_df\u001b[38;5;241m.\u001b[39mindex\u001b[38;5;241m.\u001b[39mvalues:\n\u001b[1;32m     34\u001b[0m         \u001b[38;5;28;01mif\u001b[39;00m df_copy\u001b[38;5;241m.\u001b[39mloc[\u001b[38;5;28mid\u001b[39m,\u001b[38;5;124m\"\u001b[39m\u001b[38;5;124mnb_words\u001b[39m\u001b[38;5;124m\"\u001b[39m]\u001b[38;5;241m<\u001b[39m\u001b[38;5;241m=\u001b[39mlower_bound_40th \u001b[38;5;129;01mand\u001b[39;00m df_copy\u001b[38;5;241m.\u001b[39mloc[\u001b[38;5;28mid\u001b[39m,\u001b[38;5;124m\"\u001b[39m\u001b[38;5;124mnb_words\u001b[39m\u001b[38;5;124m\"\u001b[39m]\u001b[38;5;241m>\u001b[39m\u001b[38;5;241m=\u001b[39mupper_bound_60th :\n\u001b[1;32m     35\u001b[0m             df_copy\u001b[38;5;241m.\u001b[39mdrop(\u001b[38;5;28mid\u001b[39m)\n",
      "\u001b[0;31mTypeError\u001b[0m: cannot unpack non-iterable numpy.int64 object"
     ]
    }
   ],
   "source": [
    "\n",
    "category = \"reproducibility\"\n",
    "\n",
    "\n",
    "df_= pd.DataFrame(columns=[\"paper_id\", \"nb_words\", \"review\", \"nb_review\"])\n",
    "\n",
    "print(df_)\n",
    "\n",
    "\n",
    "for id, id_df in df_words.groupby(level=0):\n",
    "    for _, title in id_df.index.values:\n",
    "        for i in range (1,4):\n",
    "            row = [id] + [df_words.loc[(id,title), (category, f\"review {i}\")]] + [df_reviews.loc[(id,title), (category, f\"review {i}\")]] + [i]\n",
    "            row_df = pd.DataFrame([row], columns=[\"paper_id\", \"nb_words\", \"review\", \"nb_review\"])\n",
    "            df_ = pd.concat([df_, row_df])\n",
    "            \n",
    "df_.sort_values(\"nb_words\", inplace=True)\n",
    "list_nb_words = (df_.loc[:,\"nb_words\"].values.tolist())\n",
    "deciles_ = statistics.quantiles(list_nb_words, n=100)\n",
    "print(deciles_)\n",
    "\n",
    "nb_reviews = 10\n",
    "\n",
    "\n",
    "print(f\"{nb_reviews} random reviews between {40} and {60} percentiles\")\n",
    "\n",
    "lower_bound_40th = deciles_[40]\n",
    "print(lower_bound_40th)\n",
    "upper_bound_60th = deciles_[60]\n",
    "print(upper_bound_60th)\n",
    "\n",
    "df_copy = df_\n",
    "for id, id_df in df_copy.groupby(level=0):\n",
    "    for _, title in id_df.index.values:\n",
    "        if df_copy.loc[id,\"nb_words\"]<=lower_bound_40th and df_copy.loc[id,\"nb_words\"]>=upper_bound_60th :\n",
    "            df_copy.drop(id)\n",
    "            \n",
    "            \n",
    "# print(selected_reviews)\n",
    "\n",
    "# selected_reviews_sample = selected_reviews.sample(nb_reviews)\n",
    "\n",
    "# for _, row in selected_reviews_sample.iterrows():\n",
    "#     for col in [\"Review 1\", \"Review 2\", \"Review 3\"]:\n",
    "#         x = df.at[_, col]\n",
    "#         if ((x >= lower_bound_40th) & (x<= upper_bound_60th)):\n",
    "#             #print(f\"{col}:\")\n",
    "#             print(row[col])\n",
    "#             print(f\"Word Count: {x}\")\n",
    "#             print(\"-\" * 50)"
   ]
  },
  {
   "cell_type": "code",
   "execution_count": null,
   "metadata": {},
   "outputs": [],
   "source": []
  }
 ],
 "metadata": {
  "kernelspec": {
   "display_name": "reproducibility-reviews",
   "language": "python",
   "name": "python3"
  },
  "language_info": {
   "codemirror_mode": {
    "name": "ipython",
    "version": 3
   },
   "file_extension": ".py",
   "mimetype": "text/x-python",
   "name": "python",
   "nbconvert_exporter": "python",
   "pygments_lexer": "ipython3",
   "version": "3.10.13"
  }
 },
 "nbformat": 4,
 "nbformat_minor": 2
}
