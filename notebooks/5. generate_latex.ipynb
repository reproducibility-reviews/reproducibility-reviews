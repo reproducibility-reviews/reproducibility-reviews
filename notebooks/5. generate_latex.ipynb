{
 "cells": [
  {
   "cell_type": "code",
   "execution_count": 52,
   "metadata": {},
   "outputs": [],
   "source": [
    "import pandas as pd\n",
    "from tabulate import tabulate\n",
    "import os\n",
    "from pathlib import Path"
   ]
  },
  {
   "cell_type": "code",
   "execution_count": 57,
   "metadata": {},
   "outputs": [
    {
     "name": "stdout",
     "output_type": "stream",
     "text": [
      "+----+-----------------+--------+-------+-------+----------+--------+-------+-------------+-------------+-------------+-------------+-------------+-------------+-------------+-------------+-------------+\n",
      "|    | category        |   mean |   max |   min |   median |    std |   iqr |   deciles 1 |   deciles 2 |   deciles 3 |   deciles 4 |   deciles 5 |   deciles 6 |   deciles 7 |   deciles 8 |   deciles 9 |\n",
      "|----+-----------------+--------+-------+-------+----------+--------+-------+-------------+-------------+-------------+-------------+-------------+-------------+-------------+-------------+-------------|\n",
      "|  0 | contribution    |  60.9  |   167 |     0 |       56 |  30.56 |  42   |        26   |          34 |          42 |          49 |          56 |          63 |        74   |        85   |       105   |\n",
      "|  1 | strengths       |  60.15 |   433 |     0 |       49 |  45.96 |  46   |        19   |          27 |          34 |          40 |          49 |          57 |        68   |        84   |       113.9 |\n",
      "|  2 | weakness        |  97.22 |   494 |     0 |       72 |  83.84 |  97   |        19.1 |          31 |          43 |          56 |          72 |          90 |       117   |       153.8 |       211   |\n",
      "|  3 | reproducibility |  22.58 |   429 |     0 |       16 |  26.3  |  18   |         3   |           7 |          10 |          13 |          16 |          20 |        24   |        31   |        44   |\n",
      "|  4 | detailed        | 109.97 |  1240 |     0 |       70 | 124.54 | 115   |         9   |          23 |          37 |          51 |          70 |          96 |       124   |       169.8 |       255.8 |\n",
      "|  5 | justification   |  34.88 |   166 |     0 |       28 |  26.96 |  30   |         8   |          13 |          18 |          23 |          28 |          34 |        42   |        52   |        69   |\n",
      "|  6 | total           | 385.71 |  2219 |     0 |      336 | 210.88 | 233.5 |       178   |         223 |         263 |         301 |         336 |         386 |       441.7 |       521.8 |       642.9 |\n",
      "+----+-----------------+--------+-------+-------+----------+--------+-------+-------------+-------------+-------------+-------------+-------------+-------------+-------------+-------------+-------------+\n",
      "Wrote tex file ../miccai2023/latex/table_S_nbwords.tex\n"
     ]
    }
   ],
   "source": [
    "# Default year is 2023\n",
    "# To change to another year, please modify the variable below\n",
    "year_ = \"2023\"\n",
    "\n",
    "output_directory = Path(f\"../miccai{year_}\")\n",
    "stats_directory = Path(output_directory) / \"stats\"\n",
    "\n",
    "\n",
    "df_stats_word_counts=pd.read_csv(os.path.join(stats_directory ,f'stats_word_counts.csv'), sep= \"\\t\")\n",
    "print(tabulate(df_stats_word_counts, headers='keys', tablefmt='psql'))\n",
    "\n",
    "latex_directory = Path(output_directory) / \"latex\"\n",
    "if not latex_directory.is_dir():\n",
    "    os.mkdir(latex_directory)\n",
    "\n",
    "table_S_nbwords=latex_directory / 'table_S_nbwords.tex'\n",
    "with open(table_S_nbwords, 'w') as f_:\n",
    "    print(\"\\\\begin{tabular}{lllllll}\", file=f_)\n",
    "    print(\"\\\\hline\", file=f_)\n",
    "    print(f\"Category & Mean & Min & Max & Median & $\\sigma$ & IQR \\\\\\\\ \", file=f_)\n",
    "    print(\"\\\\hline\", file=f_)\n",
    "    c_=df_stats_word_counts.iloc[0].to_numpy()\n",
    "    print(f\"Contribution & {c_[1]:.2f} & {c_[3]:.0f} & {c_[2]:.0f} & {c_[4]:.0f} & {c_[5]:.2f} & {c_[6]:.0f} \\\\\\\\\", file=f_)\n",
    "    c_=df_stats_word_counts.iloc[1].to_numpy()\n",
    "    print(f\"Strengths & {c_[1]:.2f} & {c_[3]:.0f} & {c_[2]:.0f} & {c_[4]:.0f} & {c_[5]:.2f} & {c_[6]:.0f} \\\\\\\\\", file=f_)\n",
    "    c_=df_stats_word_counts.iloc[2].to_numpy()\n",
    "    print(f\"Weaknesses & {c_[1]:.2f} & {c_[3]:.0f} & {c_[2]:.0f} & {c_[4]:.0f} & {c_[5]:.2f} & {c_[6]:.0f} \\\\\\\\\", file=f_)\n",
    "    c_=df_stats_word_counts.iloc[3].to_numpy()\n",
    "    print(f\"Reproducibility & {c_[1]:.2f} & {c_[3]:.0f} & {c_[2]:.0f} & {c_[4]:.0f} & {c_[5]:.2f} & {c_[6]:.0f} \\\\\\\\\", file=f_)\n",
    "    c_=df_stats_word_counts.iloc[4].to_numpy()\n",
    "    print(f\"Detailed comments & {c_[1]:.2f} & {c_[3]:.0f} & {c_[2]:.0f} & {c_[4]:.0f} & {c_[5]:.2f} & {c_[6]:.0f} \\\\\\\\\", file=f_)\n",
    "    c_=df_stats_word_counts.iloc[5].to_numpy()\n",
    "    print(f\"Justification & {c_[1]:.2f} & {c_[3]:.0f} & {c_[2]:.0f} & {c_[4]:.0f} & {c_[5]:.2f} & {c_[6]:.0f} \\\\\\\\\", file=f_)\n",
    "    print(\"\\\\hline\", file=f_)\n",
    "    c_=df_stats_word_counts.iloc[6].to_numpy()\n",
    "    print(f\"Total & {c_[1]:.2f} & {c_[3]:.0f} & {c_[2]:.0f} & {c_[4]:.0f} & {c_[5]:.2f} & {c_[6]:.0f} \\\\\\\\\", file=f_)\n",
    "    print(\"\\\\hline\", file=f_)\n",
    "    print(\"\\\\end{tabular}\", file=f_)\n",
    "\n",
    "print(f\"Wrote tex file {table_S_nbwords}\")"
   ]
  }
 ],
 "metadata": {
  "kernelspec": {
   "display_name": "reproducibility-reviews",
   "language": "python",
   "name": "python3"
  },
  "language_info": {
   "name": "python",
   "version": "3.10.13"
  }
 },
 "nbformat": 4,
 "nbformat_minor": 2
}
